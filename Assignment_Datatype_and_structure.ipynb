{
  "nbformat": 4,
  "nbformat_minor": 0,
  "metadata": {
    "colab": {
      "provenance": []
    },
    "kernelspec": {
      "name": "python3",
      "display_name": "Python 3"
    },
    "language_info": {
      "name": "python"
    }
  },
  "cells": [
    {
      "cell_type": "markdown",
      "source": [
        "#THEORY QUESTIONS"
      ],
      "metadata": {
        "id": "CT-Rx8JJ2-2n"
      }
    },
    {
      "cell_type": "markdown",
      "source": [
        "\n",
        "1. What are data structures, and why are they important?\n",
        "- A data structure is a way of organizing and storing data in a computer so that it can be accessed and used efficiently. It refers to the logical or mathematical representation of data, as well as the implementation in a computer program.\n",
        "Data srtuctures are important because they provide more efficient, organised way to manage data that enables faster and optimised computation.\n",
        "\n",
        "\n",
        "\n",
        "---\n",
        "\n",
        "2. Explain the difference between mutable and immutable data types with examples ?\n",
        "- Mutable Data type allow you to change their value or data directly without affecting their identity. whereas, immutable data type, don't allow in-place modifications and we need to create new objects of the same type with different values.\n",
        "Example of mutable data type are list, set etc and immutable data type are tuples and string.\n",
        "---\n",
        "3.  What are the main differences between lists and tuples in Python?\n",
        "- List are mutable and thus data can be modified in the list while tuples are immutable thus data cannot be modified in tupples.\n",
        "List are defined using square [] bracket while tuples are defined by parantheses () .\n",
        "list are used to store data where scope of modification is required while tuples are used in critical data where data modification is restricted.\n",
        "---\n",
        "4. Describe how dictionaries store data?\n",
        "- Dictionary store data in key value pair where the value is assigned to a particular key similar to value that points to a index. A dictionary data is ordered, mutable and with unique keys.\n",
        "---\n",
        "5. Why might you use a set instead of a list in Python?\n",
        "- Set stores unique data that means data cannot be duplicate in a set while list just allows the data to be stored with no unique element. Sets don't allow redundance while list allows.\n",
        "So, Use case of set will be instead of list would at place while unique elements has to be maintained. for example, set of employee in an office.\n",
        "---\n",
        "6. What is a string in Python, and how is it different from a list?\n",
        "- A string is a data type in python used to store a sequence of character and are immutable. while , list is a collection of different data types that is mutable and hence can be modified. example of string > name=\"Ramesh\"\n",
        "Example of list > myitem=[\"new\", 1,2,3,True]\n",
        "---\n",
        "7. How do tuples ensure data integrity in Python?\n",
        "- Tuples are immutable in python thus ensuring unnecessary and unwanted modification therefore, enabling the data integrity in python.\n",
        "---\n",
        "8. What is a hash table, and how does it relate to dictionaries in Python?\n",
        "- Hash tables are a type of data structure in which the address or the index value of the data element is generated from a hash function. That makes accessing the data faster as the index value behaves as a key for the data value.Dictionary are directly related as python used to store data in hash table due to working nature of dictionary in key value pair.\n",
        "---\n",
        "9. Can lists contain different data types in Python?\n",
        "- yes, list is a versatile and open to include different data types in python for example, integer, float, string, boolean, tuples etc.\n",
        "---\n",
        "10. Explain why strings are immutable in Python?\n",
        "- Immutability of python strings provide them with hashing, performance optimization, safety, ease of use, etc. Thus enabling a critical role in coding in python.\n",
        "---\n",
        "11. What advantages do dictionaries offer over lists for certain tasks?\n",
        "- Dictionary offers key value pair based access thus makes it easier for user to search and maintain the values while list being ordered but lacks easy access to values stored.\n",
        "Dictionary is readable and easy to manage while list have there own sort of ways to manage the data thus making task complex.\n",
        "Dictionary use case is much connected to real world where key value pairs are assigned while list just act as accumulation of data types.\n",
        "---\n",
        "12. Describe a scenario where using a tuple would be preferable over a list ?\n",
        "- Tuples are immutable while list is mutable thus making tuple preferable where changing data is not into the picture. A scenario would be, database of aadhar card number where once number is created thereafter changing is not an option.\n",
        "---\n",
        "13. How do sets handle duplicate values in Python?\n",
        "- Python sets are inherited from the mathematics set where dublicate values are not entertained thus making efficent use of memory and time. Sets in python make it similar and thus take only unique entity .\n",
        "---\n",
        "14.  How does the “in” keyword work differently for lists and dictionaries ?\n",
        "-\n",
        "The \"in\" keyword search and returns boolean value. For list the value is searched in the list whereas for dictionaries key is searched.\n",
        "for example, mylist=[1,2,3,\"pw\",True] pw in mylist > True\n",
        "    and  mydict{\"name\":\"rohan\",\"Class\":2} rohan in mydict > False\n",
        "---\n",
        "15. Can you modify the elements of a tuple? Explain why or why not?\n",
        "- Modification in tuples directly is not possible as tuples are immutable thus ensuring data integrity. On doing so the \"TypeError\" would occur.\n",
        "However, to modify tuple one may typecaste the tuple to list and thus modify the new list as list are mutable.\n",
        "---\n",
        "16. What is a nested dictionary, and give an example of its use case?\n",
        "- A nested dictionary is a dictionary where atleast one of the value is dictionary. This allows a dictionary to have a tree like structure.\n",
        " A use case could be, assigning the data of aadhar against a number.\n",
        " for example, aadhar ={123123123:{'name':\"Rohan\",\"dob\":\"2/2/2000}}\n",
        "---\n",
        "17. Describe the time complexity of accessing elements in a dictionary?\n",
        "- The time complexity of retrieving a value by its key in a dictionary is O(1). This is because dictionaries use a hash table internally which allows constant time lookup.\n",
        "---\n",
        "18. In what situations are lists preferred over dictionaries?\n",
        "- List is prefererd over dictionaries when order of the data is concerned. Also when sequencial pattern like 0,1,2,3... is required to be indexed. list are more memory efficient and offers built in operations like sorting and slicing.\n",
        "---\n",
        "19. Why are dictionaries considered unordered, and how does that affect data retrieval ?\n",
        "- Dictionary is unordered as they work on key value pair based approach and not on indexing based on sequenced integers. This enbles dictionary to store complex data.\n",
        "The data retrieval in dictionary is done by key which returns either boolean in case of membership operator or value. This allows time complexity being O(1), ensure easy and arranged data retrieval.\n",
        "---\n",
        "20. Explain the difference between a list and a dictionary in terms of data retrieval ?\n",
        "- list retrievs its data starting from the index 0 in interger values as they are ordered whereas the dictionary retrievs data form the associated key in the key value pair of dictionary. Data seach and retrieval time of dictionary is much faster than list as list has to search on entire data while dictionary just seach for the key.\n",
        "\n",
        "---\n"
      ],
      "metadata": {
        "id": "CnXPlMwHGWBX"
      }
    },
    {
      "cell_type": "markdown",
      "source": [
        "#PRACTICAL QUESTIONS"
      ],
      "metadata": {
        "id": "h67thDW6meem"
      }
    },
    {
      "cell_type": "code",
      "source": [
        "# 1. Write a code to create a string with your name and print it\n",
        "mystr=\"Bikrant Rawat\"\n",
        "print(mystr)"
      ],
      "metadata": {
        "id": "U1fMxKL1mVtW",
        "colab": {
          "base_uri": "https://localhost:8080/"
        },
        "outputId": "dcd3120f-607c-4342-b1c5-a111e261bd07"
      },
      "execution_count": 1,
      "outputs": [
        {
          "output_type": "stream",
          "name": "stdout",
          "text": [
            "Bikrant Rawat\n"
          ]
        }
      ]
    },
    {
      "cell_type": "code",
      "source": [
        "# 2. Write a code to find the length of the string \"Hello World\".\n",
        "len(\"Hello World\")"
      ],
      "metadata": {
        "colab": {
          "base_uri": "https://localhost:8080/"
        },
        "id": "FU6XenNJOwQs",
        "outputId": "207c0777-8e11-4b34-84f5-373ca1269d4b"
      },
      "execution_count": 2,
      "outputs": [
        {
          "output_type": "execute_result",
          "data": {
            "text/plain": [
              "11"
            ]
          },
          "metadata": {},
          "execution_count": 2
        }
      ]
    },
    {
      "cell_type": "code",
      "source": [
        "# 3. Write a code to slice the first 3 characters from the string \"Python Programming\"\n",
        "slice_str = \"Python Programming\"\n",
        "slice_str[:3]"
      ],
      "metadata": {
        "colab": {
          "base_uri": "https://localhost:8080/",
          "height": 36
        },
        "id": "AbM5ApDlO90e",
        "outputId": "6a81af7f-e918-40e8-b3d2-e9332ec27dc5"
      },
      "execution_count": 3,
      "outputs": [
        {
          "output_type": "execute_result",
          "data": {
            "text/plain": [
              "'Pyt'"
            ],
            "application/vnd.google.colaboratory.intrinsic+json": {
              "type": "string"
            }
          },
          "metadata": {},
          "execution_count": 3
        }
      ]
    },
    {
      "cell_type": "code",
      "source": [
        "# 4. Write a code to convert the string \"hello\" to uppercase.\n",
        "upper_str = \"hello\"\n",
        "upper_str.upper()"
      ],
      "metadata": {
        "colab": {
          "base_uri": "https://localhost:8080/",
          "height": 36
        },
        "id": "gCfSIdRAPYhF",
        "outputId": "df5b8c62-4831-40f3-d184-237a455e156a"
      },
      "execution_count": 4,
      "outputs": [
        {
          "output_type": "execute_result",
          "data": {
            "text/plain": [
              "'HELLO'"
            ],
            "application/vnd.google.colaboratory.intrinsic+json": {
              "type": "string"
            }
          },
          "metadata": {},
          "execution_count": 4
        }
      ]
    },
    {
      "cell_type": "code",
      "source": [
        "# 5. Write a code to replace the word \"apple\" with \"orange\" in the string \"I like apple.\n",
        "replace_str=\"I lilke apple\"\n",
        "replace_str.replace(\"apple\",\"orange\")"
      ],
      "metadata": {
        "colab": {
          "base_uri": "https://localhost:8080/",
          "height": 36
        },
        "id": "0OVvNepJP0UE",
        "outputId": "14c9f905-79a6-40fb-a0bf-f1936643ff74"
      },
      "execution_count": 5,
      "outputs": [
        {
          "output_type": "execute_result",
          "data": {
            "text/plain": [
              "'I lilke orange'"
            ],
            "application/vnd.google.colaboratory.intrinsic+json": {
              "type": "string"
            }
          },
          "metadata": {},
          "execution_count": 5
        }
      ]
    },
    {
      "cell_type": "code",
      "source": [
        "# 6. Write a code to create a list with numbers 1 to 5 and print it.\n",
        "my_list=[num+1 for num in range(5)]\n",
        "print(my_list)"
      ],
      "metadata": {
        "colab": {
          "base_uri": "https://localhost:8080/"
        },
        "id": "wrdA4_50QSK_",
        "outputId": "9caf4498-f61a-49bc-8e87-8c26264e9d6c"
      },
      "execution_count": 6,
      "outputs": [
        {
          "output_type": "stream",
          "name": "stdout",
          "text": [
            "[1, 2, 3, 4, 5]\n"
          ]
        }
      ]
    },
    {
      "cell_type": "code",
      "source": [
        "# 7. Write a code to append the number 10 to the list [1, 2, 3, 4].\n",
        "app_list=[1,2,3,4]\n",
        "app_list.append(10)\n",
        "print(app_list)"
      ],
      "metadata": {
        "colab": {
          "base_uri": "https://localhost:8080/"
        },
        "id": "_Wvl5Bu7Q2v7",
        "outputId": "0898dcb1-df40-469b-f3db-ba4073d4f8b4"
      },
      "execution_count": 9,
      "outputs": [
        {
          "output_type": "stream",
          "name": "stdout",
          "text": [
            "[1, 2, 3, 4, 10]\n"
          ]
        }
      ]
    },
    {
      "cell_type": "code",
      "source": [
        "# 8. Write a code to remove the number 3 from the list [1, 2, 3, 4, 5].\n",
        "rem_list= [1,2,3,4,5]\n",
        "rem_list.remove(3)\n",
        "print(rem_list)"
      ],
      "metadata": {
        "colab": {
          "base_uri": "https://localhost:8080/"
        },
        "id": "5j-OlR_RRMYM",
        "outputId": "d43fb568-d822-4cfd-975f-a11c3a9331ee"
      },
      "execution_count": 10,
      "outputs": [
        {
          "output_type": "stream",
          "name": "stdout",
          "text": [
            "[1, 2, 4, 5]\n"
          ]
        }
      ]
    },
    {
      "cell_type": "code",
      "source": [
        "# 9.  Write a code to access the second element in the list ['a', 'b', 'c', 'd'].\n",
        "access_list =['a', 'b', 'c', 'd']\n",
        "access_list[1]"
      ],
      "metadata": {
        "colab": {
          "base_uri": "https://localhost:8080/",
          "height": 36
        },
        "id": "GXwh0BnQRqlj",
        "outputId": "47dcd1e4-089e-4474-df95-828a36f80c0f"
      },
      "execution_count": 11,
      "outputs": [
        {
          "output_type": "execute_result",
          "data": {
            "text/plain": [
              "'b'"
            ],
            "application/vnd.google.colaboratory.intrinsic+json": {
              "type": "string"
            }
          },
          "metadata": {},
          "execution_count": 11
        }
      ]
    },
    {
      "cell_type": "code",
      "source": [
        "# 10. Write a code to reverse the list [10, 20, 30, 40, 50].\n",
        "rev_list=[10, 20, 30, 40, 50]\n",
        "rev_list[::-1]"
      ],
      "metadata": {
        "colab": {
          "base_uri": "https://localhost:8080/"
        },
        "id": "Cdbi2K2USBZq",
        "outputId": "1323a0f6-ca82-4246-a7bb-455b8fbcf680"
      },
      "execution_count": 12,
      "outputs": [
        {
          "output_type": "execute_result",
          "data": {
            "text/plain": [
              "[50, 40, 30, 20, 10]"
            ]
          },
          "metadata": {},
          "execution_count": 12
        }
      ]
    },
    {
      "cell_type": "code",
      "source": [
        "# 11. Write a code to create a tuple with the elements 100, 200, 300 and print it.\n",
        "mytuple=(100,200,300)\n",
        "print(mytuple)"
      ],
      "metadata": {
        "colab": {
          "base_uri": "https://localhost:8080/"
        },
        "id": "fgM8NNJKSRdb",
        "outputId": "9d7e8691-73db-46f2-da22-845260a15949"
      },
      "execution_count": 13,
      "outputs": [
        {
          "output_type": "stream",
          "name": "stdout",
          "text": [
            "(100, 200, 300)\n"
          ]
        }
      ]
    },
    {
      "cell_type": "code",
      "source": [
        "# 12. Write a code to access the second-to-last element of the tuple ('red', 'green', 'blue', 'yellow').\n",
        "second_to_last_element=('red', 'green', 'blue', 'yellow')\n",
        "second_to_last_element[1:]"
      ],
      "metadata": {
        "colab": {
          "base_uri": "https://localhost:8080/"
        },
        "id": "kHirEEIrShGk",
        "outputId": "fb8acf2e-58c8-48cc-e5b4-59ca1edc6d4d"
      },
      "execution_count": 14,
      "outputs": [
        {
          "output_type": "execute_result",
          "data": {
            "text/plain": [
              "('green', 'blue', 'yellow')"
            ]
          },
          "metadata": {},
          "execution_count": 14
        }
      ]
    },
    {
      "cell_type": "code",
      "source": [
        "# 13. Write a code to find the minimum number in the tuple (10, 20, 5, 15).\n",
        "minimum_number=(10, 20, 5, 15)\n",
        "min(minimum_number)"
      ],
      "metadata": {
        "colab": {
          "base_uri": "https://localhost:8080/"
        },
        "id": "Hwoi3x8YS_a6",
        "outputId": "3c95fab9-34cb-464a-f9e0-f8afd9837d5c"
      },
      "execution_count": 20,
      "outputs": [
        {
          "output_type": "execute_result",
          "data": {
            "text/plain": [
              "5"
            ]
          },
          "metadata": {},
          "execution_count": 20
        }
      ]
    },
    {
      "cell_type": "code",
      "source": [
        "# 14.  Write a code to find the index of the element \"cat\" in the tuple ('dog', 'cat', 'rabbit').\n",
        "index_element =('dog', 'cat', 'rabbit')\n",
        "for ind,name in enumerate(index_element):\n",
        "  if name == \"cat\":\n",
        "    print(ind)"
      ],
      "metadata": {
        "colab": {
          "base_uri": "https://localhost:8080/"
        },
        "id": "oFI2UydZTU1b",
        "outputId": "1220904c-9a4a-4aab-e468-042d5206b70b"
      },
      "execution_count": 21,
      "outputs": [
        {
          "output_type": "stream",
          "name": "stdout",
          "text": [
            "1\n"
          ]
        }
      ]
    },
    {
      "cell_type": "code",
      "source": [
        "# 15.  Write a code to create a tuple containing three different fruits and check if \"kiwi\" is in it.\n",
        "fruit_tup= (\"apple\",\"kiwi\",\"banana\")\n",
        "\"kiwi\" in fruit_tup"
      ],
      "metadata": {
        "colab": {
          "base_uri": "https://localhost:8080/"
        },
        "id": "3dDuNPexU0m6",
        "outputId": "986a8923-faa2-41c4-dfe9-0a459af4aea5"
      },
      "execution_count": 22,
      "outputs": [
        {
          "output_type": "execute_result",
          "data": {
            "text/plain": [
              "True"
            ]
          },
          "metadata": {},
          "execution_count": 22
        }
      ]
    },
    {
      "cell_type": "code",
      "source": [
        "# 16.  Write a code to create a set with the elements 'a', 'b', 'c' and print it.\n",
        "my_set={'a', 'b', 'c'}\n",
        "print(my_set)"
      ],
      "metadata": {
        "colab": {
          "base_uri": "https://localhost:8080/"
        },
        "id": "sseR77DCVn72",
        "outputId": "ddb98e37-20c0-47ce-c35f-c064373c3c23"
      },
      "execution_count": 23,
      "outputs": [
        {
          "output_type": "stream",
          "name": "stdout",
          "text": [
            "{'a', 'c', 'b'}\n"
          ]
        }
      ]
    },
    {
      "cell_type": "code",
      "source": [
        "# 17. Write a code to clear all elements from the set {1, 2, 3, 4, 5}.\n",
        "clear_set ={1, 2, 3, 4, 5}\n",
        "print(clear_set)\n",
        "clear_set.clear()\n",
        "print(clear_set)"
      ],
      "metadata": {
        "colab": {
          "base_uri": "https://localhost:8080/"
        },
        "id": "Sx3p2UnuV60S",
        "outputId": "1271aa09-74c1-43eb-81ff-51c1928aa5cc"
      },
      "execution_count": 25,
      "outputs": [
        {
          "output_type": "stream",
          "name": "stdout",
          "text": [
            "{1, 2, 3, 4, 5}\n",
            "set()\n"
          ]
        }
      ]
    },
    {
      "cell_type": "code",
      "source": [
        "# 18. Write a code to remove the element 4 from the set {1, 2, 3, 4}.\n",
        "rem_set ={1, 2, 3, 4}\n",
        "rem_set.remove(4)\n",
        "print(rem_set)"
      ],
      "metadata": {
        "colab": {
          "base_uri": "https://localhost:8080/"
        },
        "id": "nY096lGnWSEu",
        "outputId": "0ecd72d3-becb-4f4b-a333-8c36afafd28f"
      },
      "execution_count": 27,
      "outputs": [
        {
          "output_type": "stream",
          "name": "stdout",
          "text": [
            "{1, 2, 3}\n"
          ]
        }
      ]
    },
    {
      "cell_type": "code",
      "source": [
        "# 19. Write a code to find the union of two sets {1, 2, 3} and {3, 4, 5}.\n",
        "set1={1,2,3}\n",
        "set2={3,4,5}\n",
        "set1 | set2"
      ],
      "metadata": {
        "colab": {
          "base_uri": "https://localhost:8080/"
        },
        "id": "p-nY0CpnWw9z",
        "outputId": "220faea4-512c-4bbf-e5b6-0f27a1f400b2"
      },
      "execution_count": 30,
      "outputs": [
        {
          "output_type": "execute_result",
          "data": {
            "text/plain": [
              "{1, 2, 3, 4, 5}"
            ]
          },
          "metadata": {},
          "execution_count": 30
        }
      ]
    },
    {
      "cell_type": "code",
      "source": [
        "# 20.  Write a code to find the intersection of two sets {1, 2, 3} and {2, 3, 4}.\n",
        "intsec1={1,2,3}\n",
        "intsec2={2,3,4}\n",
        "intsec1 & intsec2"
      ],
      "metadata": {
        "colab": {
          "base_uri": "https://localhost:8080/"
        },
        "id": "RdTNwT_QXYOa",
        "outputId": "977b0659-7cf9-4ffb-a749-0db305971598"
      },
      "execution_count": 33,
      "outputs": [
        {
          "output_type": "execute_result",
          "data": {
            "text/plain": [
              "{2, 3}"
            ]
          },
          "metadata": {},
          "execution_count": 33
        }
      ]
    },
    {
      "cell_type": "code",
      "source": [
        "# 21.  Write a code to create a dictionary with the keys \"name\", \"age\", and \"city\", and print it.\n",
        "my_dict ={\"name\":\"Ramesh\",\"age\":23,\"city\":\"Delhi\"}\n",
        "print(my_dict)"
      ],
      "metadata": {
        "colab": {
          "base_uri": "https://localhost:8080/"
        },
        "id": "WxcxcZCAYGQE",
        "outputId": "215487ae-5ec9-4bcb-d95b-64d29f999001"
      },
      "execution_count": 2,
      "outputs": [
        {
          "output_type": "stream",
          "name": "stdout",
          "text": [
            "{'name': 'Ramesh', 'age': 23, 'city': 'Delhi'}\n"
          ]
        }
      ]
    },
    {
      "cell_type": "code",
      "source": [
        "# 22. Write a code to add a new key-value pair \"country\": \"USA\" to the dictionary {'name': 'John', 'age': 25}.\n",
        "org_dict= {'name': 'John', 'age': 25}\n",
        "print(org_dict)\n",
        "org_dict[\"country\"]= \"USA\"\n",
        "print(org_dict)"
      ],
      "metadata": {
        "colab": {
          "base_uri": "https://localhost:8080/"
        },
        "id": "Qd5U1CEBvUW2",
        "outputId": "e6956772-b0c9-4955-afa3-736f49f36bd4"
      },
      "execution_count": 9,
      "outputs": [
        {
          "output_type": "stream",
          "name": "stdout",
          "text": [
            "{'name': 'John', 'age': 25}\n",
            "{'name': 'John', 'age': 25, 'country': 'USA'}\n"
          ]
        }
      ]
    },
    {
      "cell_type": "code",
      "source": [
        "# 23.  Write a code to access the value associated with the key \"name\" in the dictionary {'name': 'Alice', 'age': 30}.\n",
        "asso_dict={'name': 'Alice', 'age': 30}\n",
        "asso_dict[\"name\"]"
      ],
      "metadata": {
        "colab": {
          "base_uri": "https://localhost:8080/",
          "height": 36
        },
        "id": "la6qSGpzv7q2",
        "outputId": "f0341934-f147-47ae-f242-67688ba46351"
      },
      "execution_count": 12,
      "outputs": [
        {
          "output_type": "execute_result",
          "data": {
            "text/plain": [
              "'Alice'"
            ],
            "application/vnd.google.colaboratory.intrinsic+json": {
              "type": "string"
            }
          },
          "metadata": {},
          "execution_count": 12
        }
      ]
    },
    {
      "cell_type": "code",
      "source": [
        "# 24. Write a code to remove the key \"age\" from the dictionary {'name': 'Bob', 'age': 22, 'city': 'New York'}.\n",
        "rem_dict={'name': 'Bob', 'age': 22, 'city': 'New York'}\n",
        "rem_dict.pop(\"age\")\n",
        "rem_dict"
      ],
      "metadata": {
        "colab": {
          "base_uri": "https://localhost:8080/"
        },
        "id": "R8tovi45wulD",
        "outputId": "a7dbec9b-2442-460d-fa9d-9ff81ca0c172"
      },
      "execution_count": 15,
      "outputs": [
        {
          "output_type": "execute_result",
          "data": {
            "text/plain": [
              "{'name': 'Bob', 'city': 'New York'}"
            ]
          },
          "metadata": {},
          "execution_count": 15
        }
      ]
    },
    {
      "cell_type": "code",
      "source": [
        "# 25.  Write a code to check if the key \"city\" exists in the dictionary {'name': 'Alice', 'city': 'Paris'}.\n",
        "check_dict= {'name': 'Alice', 'city': 'Paris'}\n",
        "\"city\" in check_dict"
      ],
      "metadata": {
        "colab": {
          "base_uri": "https://localhost:8080/"
        },
        "id": "aarXH8QLxLql",
        "outputId": "c07f72aa-ada8-466e-d203-bdf542ba0bc0"
      },
      "execution_count": 16,
      "outputs": [
        {
          "output_type": "execute_result",
          "data": {
            "text/plain": [
              "True"
            ]
          },
          "metadata": {},
          "execution_count": 16
        }
      ]
    },
    {
      "cell_type": "code",
      "source": [
        "# 26. Write a code to create a list, a tuple, and a dictionary, and print them all.\n",
        "new_list=[1,2,3,\"Ram\",True,3+7j]\n",
        "new_tuple=(1,2,3,4,5)\n",
        "new_dict={\"name\":\"Ram\",\"age\":23}\n",
        "print(new_list ,new_tuple ,new_dict)"
      ],
      "metadata": {
        "colab": {
          "base_uri": "https://localhost:8080/"
        },
        "id": "WxW7IwWzxxwB",
        "outputId": "bec3be79-cedd-4e76-a88a-373481b27162"
      },
      "execution_count": 21,
      "outputs": [
        {
          "output_type": "stream",
          "name": "stdout",
          "text": [
            "[1, 2, 3, 'Ram', True, (3+7j)] (1, 2, 3, 4, 5) {'name': 'Ram', 'age': 23}\n"
          ]
        }
      ]
    },
    {
      "cell_type": "code",
      "source": [
        "# 27. Write a code to create a list of 5 random numbers between 1 and 100, sort it in ascending order, and print the\n",
        "# result.(replaced)\n",
        "import random\n",
        "ran_list=[random.randint(1,100) for _ in range (5)]\n",
        "ran_list.sort()\n",
        "print(ran_list)"
      ],
      "metadata": {
        "colab": {
          "base_uri": "https://localhost:8080/"
        },
        "id": "iHFPAYDpx-Xg",
        "outputId": "b400069f-74cf-4a22-f609-55d92e0b376b"
      },
      "execution_count": 28,
      "outputs": [
        {
          "output_type": "stream",
          "name": "stdout",
          "text": [
            "[1, 23, 25, 72, 76]\n"
          ]
        }
      ]
    },
    {
      "cell_type": "code",
      "source": [
        "# 28. Write a code to create a list with strings and print the element at the third index.\n",
        "creating_list= [\"apple\",\"banana\",\"kiwi\",\"mango\",\"pineapple\",\"papaya\"]\n",
        "creating_list[3]"
      ],
      "metadata": {
        "colab": {
          "base_uri": "https://localhost:8080/",
          "height": 36
        },
        "id": "De4isOszzlsq",
        "outputId": "a3cba6b2-5719-4280-f608-7c5e7540b293"
      },
      "execution_count": 29,
      "outputs": [
        {
          "output_type": "execute_result",
          "data": {
            "text/plain": [
              "'mango'"
            ],
            "application/vnd.google.colaboratory.intrinsic+json": {
              "type": "string"
            }
          },
          "metadata": {},
          "execution_count": 29
        }
      ]
    },
    {
      "cell_type": "code",
      "source": [
        "# 29. Write a code to combine two dictionaries into one and print the result.\n",
        "dict1={\"emp_id\":2323,\"emp_name\":\"Ramesh\"}\n",
        "dict2= {\"emp_sector\":\"finance\",\"emp_position\":\"Team Lead\"}\n",
        "dict1.update(dict2)\n",
        "print(dict1)"
      ],
      "metadata": {
        "colab": {
          "base_uri": "https://localhost:8080/"
        },
        "id": "hXWkZSxY1Tm0",
        "outputId": "28374252-0092-4f5a-95a1-53959ca08402"
      },
      "execution_count": 30,
      "outputs": [
        {
          "output_type": "stream",
          "name": "stdout",
          "text": [
            "{'emp_id': 2323, 'emp_name': 'Ramesh', 'emp_sector': 'finance', 'emp_position': 'Team Lead'}\n"
          ]
        }
      ]
    },
    {
      "cell_type": "code",
      "source": [
        "# 30. Write a code to convert a list of strings into a set.\n",
        "list_of_strings = [\"SKODA\",\"MAHINDRA\",\"TATA\",\"SUZUKI\",\"HYUNDAI\",\"VW\"]\n",
        "set(list_of_strings)"
      ],
      "metadata": {
        "colab": {
          "base_uri": "https://localhost:8080/"
        },
        "id": "KMl3z8j42Pnv",
        "outputId": "dc7048a1-06f5-4ed4-d87d-64610dece966"
      },
      "execution_count": 31,
      "outputs": [
        {
          "output_type": "execute_result",
          "data": {
            "text/plain": [
              "{'HYUNDAI', 'MAHINDRA', 'SKODA', 'SUZUKI', 'TATA', 'VW'}"
            ]
          },
          "metadata": {},
          "execution_count": 31
        }
      ]
    },
    {
      "cell_type": "code",
      "source": [],
      "metadata": {
        "id": "ssYvZibQ24Y_"
      },
      "execution_count": null,
      "outputs": []
    }
  ]
}