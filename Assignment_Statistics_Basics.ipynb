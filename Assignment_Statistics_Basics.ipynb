{
  "nbformat": 4,
  "nbformat_minor": 0,
  "metadata": {
    "colab": {
      "provenance": []
    },
    "kernelspec": {
      "name": "python3",
      "display_name": "Python 3"
    },
    "language_info": {
      "name": "python"
    }
  },
  "cells": [
    {
      "cell_type": "markdown",
      "source": [
        "#Statistics Basics | Assignment\n",
        "##Assignment Code: DS-AG-005"
      ],
      "metadata": {
        "id": "zzuxll8P-AgE"
      }
    },
    {
      "cell_type": "markdown",
      "source": [
        "Question 1: What is the difference between descriptive statistics and inferential statistics? Explain with\n",
        "examples.\n",
        "\n",
        "Answer : Statistics is a key field that helps us make sense of data through collection, analysis, and\n",
        "presentation. It plays an important role in many areas, from business to healthcare, by guiding decision-making\n",
        "and drawing conclusions. This process is made easier with the help of two main branches of statistics: descriptive and inferential.\n",
        "\n",
        "- Descriptive statistics :\n",
        "  * Gives information about raw data;\n",
        "describes and summarizes the data in\n",
        "some manner.\n",
        "  * Helps in organizing, analyzing, and\n",
        "presenting data in a meaningful way.\n",
        "  * Used to describe a situation or the\n",
        "characteristics of a dataset.\n",
        "  * Explains already known data; limited to\n",
        "the dataset (sample or small\n",
        "population).\n",
        "  * Mean, Median, Mode, Range,\n",
        "Variance, Standard Deviation, Charts,\n",
        "Tables, Histograms, etc.\n",
        "  * Limited to presenting and analyzing\n",
        "the data at hand.\n",
        "  * Used for describing trends and\n",
        "organizing data for presentation.\n",
        "- Inferential Statistics:\n",
        "  * Makes inferences about the population\n",
        "using data drawn from the population.\n",
        "  * Allows comparison, testing of hypotheses,\n",
        "and making predictions.\n",
        "  * Used to explain the probability of\n",
        "occurrence of an event and draw\n",
        "conclusions.\n",
        "  * Attempts to generalize and reach\n",
        "conclusions about the whole population.\n",
        "  * Confidence Intervals, Hypothesis Testing,\n",
        "Regression Models, ANOVA, p-values,\n",
        "etc.\n",
        "  * Provides predictions and conclusions that\n",
        "go beyond the observed data.\n",
        "  * Used for predicting trends, testing\n",
        "hypotheses, and generalizing results to\n",
        "population.\n",
        "\n",
        "- Example of Descriptive statistics- A teacher calculates the average score of her 40 students in a math exam.\n",
        "  Mean = 68, Standard Deviation = 12.This only tells us about these 40 students; no generalization is made about\n",
        "  all students in the school.\n",
        "\n",
        "- Example of Inferential statistics- Suppose the same teacher selects a random sample of 40 students from the\n",
        "school and finds their average math score = 68.\n",
        "By applying inferential statistics, she estimates the population mean score of all students in the school, and\n",
        "tests whether the average differs significantly from 65 at a 5% significance level.\n",
        "\n",
        "---\n",
        "Question 2: What is sampling in statistics? Explain the differences between random and stratified\n",
        "sampling.\n",
        "\n",
        "Answer :\n",
        "- Sampling in statistics : Sampling is the process of selecting a subset of individuals, items, or observations\n",
        "from a larger group known as the population. Since studying the entire population is often time-consuming,\n",
        "costly, and impractical, sampling allows researchers to draw reliable conclusions about the population by\n",
        "analyzing a smaller, manageable group. For example, instead of collecting exam scores from 10,000 university\n",
        "students, a researcher may select 500 students as a sample to estimate the average score of the entire\n",
        "university.\n",
        "\n",
        "- Difference between Random and Stratified Sampling:\n",
        "  * Random Sampling: One of the most common methods of sampling is random sampling, where every member\n",
        "of the population has an equal chance of being selected. This method is simple, unbiased, and works best when\n",
        "the population is homogeneous. For instance, if a teacher wants to study the performance of students in a class,\n",
        "she may randomly select 10 students using a lottery method or a random number generator. However, random\n",
        "sampling may sometimes lead to underrepresentation of certain subgroups in the population.\n",
        "\n",
        "  * Stratified Sampling: To overcome Random Sampling limitations, stratified sampling is used. In this method, the\n",
        "  population is first divided into subgroups or strata based on specific characteristics such as gender, age, income\n",
        "  level, or education. Then, random samples are drawn from each stratum, usually in proportion to their size in the\n",
        "  population. This ensures that all important groups are adequately represented. For example, in a study of\n",
        "  university students, the researcher may divide the students into undergraduates and postgraduates, or into male\n",
        "  and female categories, and then take a proportional random sample from each group.\n",
        "\n",
        "- Notable Key Differences: The main difference between random and stratified sampling lies in their approach.\n",
        "Random sampling treats the entire population as one group and selects individuals purely by chance, whereas\n",
        "stratified sampling ensures representation by dividing the population into meaningful subgroups before selecting\n",
        "the sample. Random sampling is simpler and easier to implement, but stratified sampling provides more\n",
        "accurate and representative results when the population is heterogeneous.\n",
        "In conclusion, both methods are widely used in statistics, but the choice between random and stratified\n",
        "sampling depends on the nature of the population being studied. Random sampling works well for uniform\n",
        "populations, while stratified sampling is more suitable when the population has distinct categories that need to\n",
        "be represented fairly\n",
        "\n",
        "---\n",
        "\n",
        "Question 3: Define mean, median, and mode. Explain why these measures of central tendency are\n",
        "important.\n",
        "\n",
        "Answer : In statistics, measures of central tendency are numerical values that describe the center or average of\n",
        "a dataset. They give a single representative value around which the data is distributed. The three most common\n",
        "measures are mean, median, and mode.\n",
        "\n",
        "- Mean : The mean (or average) is the sum of all data values divided by the number of observations.\n",
        "Formula: mean = sum of observations / Total number of observations\n",
        "Example: For the data 2, 4, 6, 8, the mean = (2+4+6+8)/4 = 20/4 = 5.\n",
        "Note : Mean may not be fruitful in case of extreme values (outliers).\n",
        "\n",
        "- Median : The median is the middle value when the data is arranged in ascending or descending order. If there\n",
        "is an even number of observations, the median is the average of the two middle values.\n",
        "Example: For the data 3, 7, 9, 12, 15, the median = 9. For data 2, 4, 6, 8, the median = (4+6)/2 = 5.\n",
        "Note : The median is not affected by extreme values and is a better measure when data is skewed.\n",
        "\n",
        "- Mode :The mode is the value that occurs most frequently in the dataset. A dataset may have no mode, one\n",
        "mode (unimodal), or more than one mode (bimodal or multimodal).\n",
        "Example: For the data 2, 3, 4, 4, 5, 6, the mode = 4.\n",
        "Note : The mode is particularly useful for categorical data (e.g., finding the most popular product or color\n",
        "choice).\n",
        "\n",
        "- Importance of measuring Central Tendencies :\n",
        "  * They summarize data into a single value, making large datasets easier to interpret.\n",
        "  * They help in comparison between different groups or datasets.\n",
        "  * They serve as the foundation for further statistical analysis such as variance, standard deviation, and\n",
        "hypothesis testing.\n",
        "  * They provide insights for decision-making in fields like business, economics, education, and health\n",
        "sciences.\n",
        "  * Each measure has its own strength: mean is widely used, median is robust to outliers, and mode is\n",
        "suitable for qualitative/categorical data.\n",
        "\n",
        "---\n",
        "\n",
        "Question 4: Explain skewness and kurtosis. What does a positive skew imply about the data?\n",
        "\n",
        "Answer: The shape of a data distribution is essential in addition to knowing its central tendency and dispersion.\n",
        "Two important measures that describe the shape of a distribution are skewness and kurtosis.\n",
        "\n",
        "- Skewness : Skewness measures the asymmetry of a data distribution around its mean.\n",
        "  * Types of Skewness:\n",
        "    * Symmetrical Distribution (Skewness = 0): Data is evenly distributed on both sides of the mean\n",
        "(e.g., normal distribution).\n",
        "    - Positive Skew (Right-Skewed): Tail on the right side is longer; mean > median > mode.\n",
        "    * Negative Skew (Left-Skewed): Tail on the left side is longer; mean < median < mode.\n",
        "\n",
        "  * Example: Income distribution in a country is usually positively skewed because a small number of very high incomes pull the mean to the right.\n",
        "\n",
        "* Kurtosis : Kurtosis measures the tailedness or the peakedness of a distribution compared to a normal\n",
        "distribution.\n",
        "  * Types of Kurtosis:\n",
        "    * Mesokurtic (Kurtosis = 3): Normal distribution; moderate tails and peak.\n",
        "    * Leptokurtic (Kurtosis > 3): Distribution has a sharper peak and fatter tails → more extreme\n",
        "values.\n",
        "    * Platykurtic (Kurtosis < 3): Distribution is flatter with thinner tails → fewer extreme values.\n",
        "\n",
        "  * Example: Stock market returns often show leptokurtic behavior because of occasional extreme fluctuations\n",
        "\n",
        "\n",
        "Positive Skew Imply About Data : A positive skew means the distribution has a longer right tail. This implies\n",
        "that:\n",
        "  * Most of the data values are concentrated on the lower side (left side) of the distribution.\n",
        "  * A few unusually large values (outliers) pull the mean to the right.\n",
        "  * Results in - Mean>Median>Mode\n",
        "Example: Personal income, house prices, and waiting times are typically positively skewed.\n",
        "\n",
        "---\n"
      ],
      "metadata": {
        "id": "uwoB0eot-MR9"
      }
    },
    {
      "cell_type": "code",
      "source": [
        "'''\n",
        "\n",
        "Question 5: Implement a Python program to compute the mean, median, and mode of a given list of numbers.\n",
        "\n",
        "numbers = [12, 15, 12, 18, 19, 12, 20, 22, 19, 19, 24, 24, 24, 26, 28]\n",
        "\n",
        "(Include your Python code and output in the code box below.)\n",
        "\n",
        "Answer:\n",
        "'''\n",
        "import statistics as stats\n",
        "\n",
        "#Given list of numbers\n",
        "numbers = [12, 15, 12, 18, 19, 12, 20, 22, 19, 19, 24, 24, 24, 26, 28]\n",
        "mean_value = stats.mean (numbers)\n",
        "median_value = stats.median (numbers)\n",
        "mode_value = stats.mode(numbers)\n",
        "# Print results\n",
        "print(\"Mean:\", mean_value)\n",
        "print(\"Median:\", median_value)\n",
        "print(\"Mode:\", mode_value)"
      ],
      "metadata": {
        "colab": {
          "base_uri": "https://localhost:8080/"
        },
        "id": "6gVbY34PDul0",
        "outputId": "b60aa283-cd3c-4afd-c0e5-7b73c5f31746"
      },
      "execution_count": 1,
      "outputs": [
        {
          "output_type": "stream",
          "name": "stdout",
          "text": [
            "Mean: 19.6\n",
            "Median: 19\n",
            "Mode: 12\n"
          ]
        }
      ]
    },
    {
      "cell_type": "code",
      "source": [
        "'''\n",
        "Question 6: Compute the covariance and correlation coefficient between the following two datasets\n",
        "provided as lists in Python:\n",
        "list_x = [10, 20, 30, 40, 50]\n",
        "list_y = [15, 25, 35, 45, 60]\n",
        "(Include your Python code and output in the code box below.)\n",
        "Answer:\n",
        "'''\n",
        "import numpy as np\n",
        "list_x = [10, 20, 30, 40, 50]\n",
        "\n",
        "#Given data\n",
        "list_y = [15, 25, 35, 45, 60]\n",
        "x = np.array(list_x)\n",
        "y = np.array(list_y)\n",
        "\n",
        "# Covariance matrix\n",
        "cov_matrix = np.cov(x, y, bias=True) # bias=True for population covariance\n",
        "cov_xy = cov_matrix [0, 1]\n",
        "\n",
        "# Correlation coefficient\n",
        "corr_matrix = np.corrcoef(x, y)\n",
        "corr_xy = corr_matrix[0, 1]\n",
        "\n",
        "print(\"Covariance between X and Y:\", cov_xy)\n",
        "print(\"Correlation coefficient:\", corr_xy)"
      ],
      "metadata": {
        "colab": {
          "base_uri": "https://localhost:8080/"
        },
        "id": "IB5ApoL8EAoQ",
        "outputId": "d90a13ca-4b81-4882-c825-6deb64e3ab6b"
      },
      "execution_count": 2,
      "outputs": [
        {
          "output_type": "stream",
          "name": "stdout",
          "text": [
            "Covariance between X and Y: 220.0\n",
            "Correlation coefficient: 0.995893206467704\n"
          ]
        }
      ]
    },
    {
      "cell_type": "code",
      "source": [
        "'''\n",
        "Question 7: Write a Python script to draw a boxplot for the following numeric list and identify its\n",
        "outliers. Explain the result:\n",
        "data = [12, 14, 14, 15, 18, 19, 19, 21, 22, 22, 23, 23, 24, 26, 29, 35]\n",
        "(Include your Python code and output in the code box below.)\n",
        "Answer:\n",
        "'''\n",
        "\n",
        "import matplotlib.pyplot as plt\n",
        "import seaborn as sns\n",
        "import numpy as np\n",
        "\n",
        "# Given data\n",
        "data = [12, 14, 14, 15, 18, 19, 19, 21, 22, 22, 23, 23, 24, 26, 29, 35]\n",
        "\n",
        "sns.boxplot(data=data)    # Create boxplot\n",
        "plt.title(\"Boxplot of Given Data\")\n",
        "plt.show()\n",
        "\n",
        "# Outlier Detection\n",
        "Q1 = np.percentile(data, 25)\n",
        "Q3 = np.percentile(data, 75)\n",
        "IQR = Q3 - Q1\n",
        "\n",
        "lower_bound = Q1 - 1.5 * IQR\n",
        "upper_bound = Q3 + 1.5 * IQR\n",
        "\n",
        "outliers = [x for x in data if x < lower_bound or x > upper_bound]\n",
        "\n",
        "print(\"Q1 =\", Q1, \"Q3 =\", Q3, \"IQR =\", IQR)\n",
        "print(\"Lower Bound =\", lower_bound, \"Upper Bound =\", upper_bound)\n",
        "print(\"Outliers:\", outliers)\n"
      ],
      "metadata": {
        "colab": {
          "base_uri": "https://localhost:8080/",
          "height": 485
        },
        "id": "2HIAiIy_EcZB",
        "outputId": "dc173622-e7b1-45d9-ece2-46f7b8c3b8c8"
      },
      "execution_count": 3,
      "outputs": [
        {
          "output_type": "display_data",
          "data": {
            "text/plain": [
              "<Figure size 640x480 with 1 Axes>"
            ],
            "image/png": "[encoded data removed]"
          },
          "metadata": {}
        },
        {
          "output_type": "stream",
          "name": "stdout",
          "text": [
            "Q1 = 17.25 Q3 = 23.25 IQR = 6.0\n",
            "Lower Bound = 8.25 Upper Bound = 32.25\n",
            "Outliers: [35]\n"
          ]
        }
      ]
    },
    {
      "cell_type": "markdown",
      "source": [
        "The result we have is a box plot representing the values in the x axis and gives information on lower bound\n",
        ",upper bound, IQR , Q1, Q2 and the outliers.\n",
        "\n",
        "From the above box plot it is clearly visible that data is well distributed and there are not much outliers as from\n",
        "above data we can find only 35 is present as extreem value."
      ],
      "metadata": {
        "id": "ckSXsU3OGCpO"
      }
    },
    {
      "cell_type": "markdown",
      "source": [
        "---\n",
        "\n",
        "Question 8: You are working as a data analyst in an e-commerce company. The marketing team wants to\n",
        "know if there is a relationship between advertising spend and daily sales.\n",
        "- Explain how you would use covariance and correlation to explore this relationship.\n",
        "- Write Python code to compute the correlation between the two lists:\n",
        "    * advertising_spend = [200, 250, 300, 400, 500]\n",
        "    * daily_sales = [2200, 2450, 2750, 3200, 4000]\n",
        "\n",
        "(Include your Python code and output in the code box below.)\n",
        "\n",
        "Answer:\n",
        "\n",
        "As a data analyst, to understand whether advertising spend influences daily sales, I would use:\n",
        "- Covariance:\n",
        "    - Measures the direction of the relationship.\n",
        "    - If covariance > 0 means when advertising spend increases, daily sales also increase.\n",
        "    - If covariance < 0 means when advertising spend increases, daily sales decrease.\n",
        "    - Note : Covariance does not tell us about the strength of the relationship, only the direction.\n",
        "\n",
        "- Correlation:\n",
        "    - Standardized measure of the relationship between two variables.\n",
        "    - Range: -1 ≤ r ≤ +1\n",
        "    - r ≈ +1 means strong positive relationship (sales rise with ad spend).\n",
        "    - r ≈ -1 means strong negative relationship (sales fall with ad spend).\n",
        "    - r ≈ 0 means no linear relationship.\n",
        "    - Note : Correlation removes the unit of measurement, making it easier to interpret compared to\n",
        "covariance.\n",
        "\n",
        "\n",
        "Thus, I would first check covariance to see the direction of the relationship and then compute the correlation\n",
        "coefficient to measure its strength."
      ],
      "metadata": {
        "id": "EeHvyhGoGR9b"
      }
    },
    {
      "cell_type": "code",
      "source": [
        "import numpy as np\n",
        "\n",
        "# Given data\n",
        "advertising_spend = [200, 250, 300, 400, 500]\n",
        "daily_sales = [2200, 2450, 2750, 3200, 4000]\n",
        "\n",
        "# Covariance\n",
        "cov_matrix = np.cov(advertising_spend, daily_sales, ddof=0)  # population covariance\n",
        "covariance = cov_matrix[0,1]\n",
        "\n",
        "# Correlation\n",
        "correlation = np.corrcoef(advertising_spend, daily_sales)[0,1]\n",
        "\n",
        "print(\"Covariance:\", covariance)\n",
        "print(\"Correlation:\", correlation)\n"
      ],
      "metadata": {
        "colab": {
          "base_uri": "https://localhost:8080/"
        },
        "id": "xydWWkSyF9ir",
        "outputId": "088744f3-2b65-4109-cdfc-16b844cfd8cc"
      },
      "execution_count": 4,
      "outputs": [
        {
          "output_type": "stream",
          "name": "stdout",
          "text": [
            "Covariance: 67900.0\n",
            "Correlation: 0.9935824101653329\n"
          ]
        }
      ]
    },
    {
      "cell_type": "markdown",
      "source": [
        "---\n",
        "\n",
        "Question 9: Your team has collected customer satisfaction survey data on a scale of 1-10 and wants to\n",
        "understand its distribution before launching a new product.\n",
        "- Explain which summary statistics and visualizations (e.g. mean, standard deviation, histogram) you’d\n",
        "use.\n",
        "- Write Python code to create a histogram using Matplotlib for the survey data:\n",
        "\n",
        "survey_scores = [7, 8, 5, 9, 6, 7, 8, 9, 10, 4, 7, 6, 9, 8, 7]\n",
        "\n",
        "(Include your Python code and output in the code box below.)\n",
        "\n",
        "Answer : To understand the distribution of customer satisfaction scores (1–10 scale), Let me first describe the\n",
        "meaning of each one :\n",
        "  - Mean (Average): Provides the central tendency of satisfaction levels.\n",
        "  - Median: Shows the middle score and is less affected by outliers.\n",
        "  - Mode: Identifies the most common rating given by customers.\n",
        "  - Standard Deviation (SD): Measures the variability of responses; higher SD means customers’ opinions\n",
        "are more spread out.\n",
        "\n",
        "Since outliers is not much and mean can work well with the data set I would use mean and standard deviation\n",
        "more than median and mode to know in depth of customer satisfaction.\n",
        "For visualization, I would use:\n",
        "\n",
        "  - Histogram: To show the frequency distribution of survey scores.\n",
        "  - Boxplot: To detect spread and outliers.\n",
        "  \n",
        "Together, these statistics and visualizations provide insights into whether customers are generally satisfied\n",
        "(scores skewed high) or dissatisfied (scores skewed low), and whether opinions are consistent or highly varied"
      ],
      "metadata": {
        "id": "pG8uKEhTHVyI"
      }
    },
    {
      "cell_type": "code",
      "source": [
        "import numpy as np\n",
        "import matplotlib.pyplot as plt\n",
        "import statistics as stats\n",
        "\n",
        "# Given survey data\n",
        "survey_scores = [7, 8, 5, 9, 6, 7, 8, 9, 10, 4, 7, 6, 9, 8, 7]\n",
        "\n",
        "#Summary Statistics\n",
        "\n",
        "mean_score = np.mean(survey_scores)\n",
        "median_score = np.median(survey_scores)\n",
        "mode_score = stats.mode(survey_scores)\n",
        "std_dev = np.std(survey_scores)\n",
        "min_score, max_score = np.min(survey_scores), np.max(survey_scores)\n",
        "\n",
        "print(\"Mean:\", mean_score)\n",
        "print(\"Median:\", median_score)\n",
        "print(\"Mode:\", mode_score)\n",
        "print(\"Standard Deviation:\", std_dev)\n",
        "print(\"Min:\", min_score, \"Max:\", max_score)\n",
        "\n",
        "# Histogram ploting\n",
        "\n",
        "plt.hist(survey_scores, bins=6, edgecolor='black')\n",
        "plt.title(\"Histogram of Customer Satisfaction Scores\")\n",
        "plt.xlabel(\"Satisfaction Score (1–10)\")\n",
        "plt.ylabel(\"Frequency\")\n",
        "plt.show()\n"
      ],
      "metadata": {
        "colab": {
          "base_uri": "https://localhost:8080/",
          "height": 559
        },
        "id": "5S4y5nmsHQu2",
        "outputId": "2d1cbf9c-07f6-4ff3-9df5-68a432271599"
      },
      "execution_count": 5,
      "outputs": [
        {
          "output_type": "stream",
          "name": "stdout",
          "text": [
            "Mean: 7.333333333333333\n",
            "Median: 7.0\n",
            "Mode: 7\n",
            "Standard Deviation: 1.577621275493231\n",
            "Min: 4 Max: 10\n"
          ]
        },
        {
          "output_type": "display_data",
          "data": {
            "text/plain": [
              "<Figure size 640x480 with 1 Axes>"
            ],
            "image/png": "[encoded data removed]"
          },
          "metadata": {}
        }
      ]
    },
    {
      "cell_type": "markdown",
      "source": [
        "---"
      ],
      "metadata": {
        "id": "tpuQEACRITtM"
      }
    }
  ]
}