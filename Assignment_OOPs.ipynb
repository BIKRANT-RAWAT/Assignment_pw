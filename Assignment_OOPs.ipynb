{
  "nbformat": 4,
  "nbformat_minor": 0,
  "metadata": {
    "colab": {
      "provenance": [],
      "collapsed_sections": [
        "rwWd4-z5_7SY"
      ]
    },
    "kernelspec": {
      "name": "python3",
      "display_name": "Python 3"
    },
    "language_info": {
      "name": "python"
    }
  },
  "cells": [
    {
      "cell_type": "markdown",
      "source": [
        "#Theory_Questions"
      ],
      "metadata": {
        "id": "rwWd4-z5_7SY"
      }
    },
    {
      "cell_type": "markdown",
      "source": [
        "1. What is Object-Oriented Programming (OOP)?\n",
        "- OOP is a programming paradigm centered around objects that represent data as attribute and code as behavior. It helps in organizing complex programs using classes, inheritance, and modular design.\n",
        "---\n",
        "2. What is a class in OOP?\n",
        "- A class is a blueprint or template for creating objects. It defines attributes i.e. variables and methods i.e. functions that its objects will have.\n",
        "---\n",
        "3. What is an object in OOP?\n",
        "- An object is an instance of a class with actual values. It represents a real world entity and can access class attributes and methods.\n",
        "---\n",
        "4. What is the difference between abstraction and encapsulation?\n",
        "- Abstraction hides implementation details and shows only essential features of the class whereas, Encapsulation hides data by restricting direct access, typically using private variables given by (__).\n",
        "---\n",
        "5. What are dunder methods in Python?\n",
        "- Dunder also known as double underscore methods are special methods like __init__, __str__ etc. They enable operator overloading and built-in behavior customization.\n",
        "---\n",
        "6. Explain the concept of inheritance in OOP.\n",
        "- Inheritance is a process where a new class (subclass or derived class) inherits properties and behaviors from an existing class (superclass or base class). This promotes code reusability and establishes a hierarchical class structures.\n",
        "---\n",
        "7. What is polymorphism in OOP?\n",
        "- Polymorphism is a mechanism that allow different classes to implement methods with the same name differently. It enables functions or methods to process objects differently based on their class.\n",
        "---\n",
        "8. How is encapsulation achieved in Python?\n",
        "- Encapsulation in Python is achieved through conventions rather than strict access modifiers. Private attributes are indicated by prefixing them with a single underscore (_private_attribute) or double underscores (__private_attribute) for name mangling. It protects internal object state and restricts unintended access.\n",
        "---\n",
        "9. What is a constructor in Python?\n",
        "- The __init__ method acts as a constructor in python. It is a special method called automatically when a new object of a class is created, used to initialize the object's attributes.\n",
        "---\n",
        "10.  What are class and static methods in Python?\n",
        "- Class methods>> class methods are bound to the class and receive the class itself as the first argument i.e. 'cls'. They are defined using the @classmethod decorator and can modify class state.\n",
        "Static methods>> static methods are not bound to either the class or the instance. They don't receive self or cls as their first argument. They are defined using the @staticmethod decorator and are essentially regular functions logically grouped within a class.\n",
        "---\n",
        "11. What is method overloading in Python?\n",
        "- Python does not support traditional method overloading where we can use multiple methods with the same name but different parameters exist within a single class. Instead, we can achieve similar functionality using default arguments, variable-length arguments (*args, **kwargs), or by checking argument types within a single method.\n",
        "---\n",
        "12. What is method overriding in OOP?\n",
        "- Method overriding is a feature where a subclass provides a specific implementation for a method that is already defined in its superclass. This allows the subclass to change the behavior of the inherited method.\n",
        "---\n",
        "13. What is a property decorator in Python?\n",
        "- The @property decorator in Python is used to define getter, setter, and deleter methods for an attribute, allowing user to control how an attribute is accessed, modified, or deleted while still interacting with it like a regular attribute.\n",
        "---\n",
        "14. Why is polymorphism important in OOP?\n",
        "- Polymorphism enhances code flexibility, extensibility, and reusability. It ease writing generic code that can work with objects of different types, making the system more adaptable to changes and new functionalities.\n",
        "---\n",
        "15. What is an abstract class in Python?\n",
        "- An abstract class is a class that cannot be instantiated directly and has to be subclassed. It can contain abstract methods (methods without implementation) that must be implemented by its concrete subclasses. The abc module is used to create abstract classes.\n",
        "---\n",
        "16. What are the advantages of OOP?\n",
        "- The advantage of OOPs are:\n",
        "  \n",
        "   Modularity: Code is organized into self-contained objects.\n",
        "   \n",
        "   Reusability: Code can be reused through inheritance.\n",
        "   \n",
        "   Maintainability: Easier to debug and update code.\n",
        "   \n",
        "   Flexibility: Adaptable to changes and new features.\n",
        "   \n",
        "   Data Security: Encapsulation helps protect data.\n",
        "---\n",
        "17. What is the difference between a class variable and an instance variable?\n",
        "- Class variables are shared by all instances of a class. They are defined within the class but outside any methods whereas, Instance variables are unique to each instance of a class. They are defined within methods (mostly __init__) using self.variable_name.\n",
        "---\n",
        "18. What is multiple inheritance in Python?\n",
        "- Multiple inheritance is a feature where a class can inherit from multiple parent classes, combining their attributes and methods. Python supports multiple inheritance, but it can lead to complexities like the \"diamond problem\".\n",
        "---\n",
        "19. Explain the purpose of __str__ and __repr__ methods in Python.\n",
        "- \"__str__ \" method provides a human-readable string representation of an object, primarily for end-users. e.g., when using print(), While, \"__repr__\" provides an \"official\" or unambiguous string representation of an object, primarily for developers, often aiming to be a valid Python expression that could recreate an object.\n",
        "---\n",
        "20. What is the significance of the super() function in Python?\n",
        "- The super() function in Python is used to call methods and access attributes of a parent or sibling class in a multiple inheritance hierarchy. It's commonly used in a subclass \"__init__\" method to call the parent class \"__init__\" and ensure proper initialization.\n",
        "---\n",
        "21. What is the significance of the __del__ method in Python?\n",
        "- The \"__del__\" method, also known as the destructor, is called when an object is about to be garbage collected i.e., when its reference count drops to zero. It is used for cleanup operations, like releasing external resources.\n",
        "---\n",
        "22. What is the difference between @staticmethod and @classmethod in Python?\n",
        "- \"@staticmethod\" decorated methods do not receive self (instance) or cls (class) as their first argument. They behave like regular functions but are logically grouped within the class whereas, \"@classmethod\" decorated methods receive the class (cls) as their first argument, allowing them to access and modify class-level attributes or create new instances of the class.\n",
        "---\n",
        "23. How does polymorphism work in Python with inheritance?\n",
        "- Polymorphism with inheritance in Python is primarily achieved through method overriding. A subclass can redefine a method inherited from its superclass, and when that method is called on an object, the appropriate version i.e. from the subclass or superclass, is executed based on the object's actual type.\n",
        "---\n",
        "24. What is method chaining in Python OOP?\n",
        "- Method chaining is a technique where multiple method calls are strung together on a single object, with each method returning the object itself, allowing the next method to be called on the same object. This can lead to more concise and precise code.\n",
        "---\n",
        "25. What is the purpose of the __call__ method in Python?\n",
        "- The \"__call__\" method allows an object to be called like a function. If a class defines this method, instances of that class can be invoked using parentheses, making them \"callable objects.\"\n",
        "---"
      ],
      "metadata": {
        "id": "mdICjIppAFYw"
      }
    },
    {
      "cell_type": "markdown",
      "source": [
        "#Practical_Questions"
      ],
      "metadata": {
        "id": "lD1lvzw5YkZQ"
      }
    },
    {
      "cell_type": "code",
      "source": [
        "# 1. Create a parent class Animal with a method speak() that prints a generic message.\n",
        "#  Create a child class Dog that overrides the speak() method to print \"Bark!\".\n",
        "class Animal:\n",
        "  def speak():\n",
        "    print(\"This is animal sound\")\n",
        "class Dog(Animal):\n",
        "  def speak():\n",
        "    print(\"Bark!\")\n",
        "\n",
        "obj=Dog\n",
        "obj.speak()   #although inherited speak() method but the class override here"
      ],
      "metadata": {
        "colab": {
          "base_uri": "https://localhost:8080/"
        },
        "id": "Az-HdF9NYswb",
        "outputId": "a800c73a-1cfa-40b0-8b80-ff2e7abce12c"
      },
      "execution_count": null,
      "outputs": [
        {
          "output_type": "stream",
          "name": "stdout",
          "text": [
            "Bark!\n"
          ]
        }
      ]
    },
    {
      "cell_type": "code",
      "source": [
        "# 2. Write a program to create an abstract class Shape with a method area().\n",
        "# Derive classes Circle and Rectangle from it and implement the area() method in both.\n",
        "from abc import abstractmethod, ABC\n",
        "class Shape:\n",
        "  @abstractmethod\n",
        "  def area(self):\n",
        "    pass\n",
        "class Circle(Shape):\n",
        "  def __init__(self,r):\n",
        "    self.r=r\n",
        "  def area(self):\n",
        "    return 3.14*self.r*self.r   #can use math library here\n",
        "class Rectangle(Shape):\n",
        "  def __init__(self,l,b):\n",
        "    self.l=l\n",
        "    self.b=b\n",
        "  def area(self):\n",
        "    return self.l*self.b\n",
        "\n",
        "rec=Rectangle(4,5)\n",
        "print(f\"Area of rectangle is {rec.area()}\")\n",
        "\n",
        "cir=Circle(10)\n",
        "print(f\"Area of circle is {cir.area()}\")"
      ],
      "metadata": {
        "colab": {
          "base_uri": "https://localhost:8080/"
        },
        "id": "3BrxZoTiackm",
        "outputId": "5bc4882a-d4fb-4310-d293-77a5c455c8a4"
      },
      "execution_count": null,
      "outputs": [
        {
          "output_type": "stream",
          "name": "stdout",
          "text": [
            "Area of rectangle is 20\n",
            "Area of circle is 314.0\n"
          ]
        }
      ]
    },
    {
      "cell_type": "code",
      "source": [
        "# 3. Implement a multi-level inheritance scenario where a class Vehicle has an\n",
        "#  attribute type. Derive a class Car and further derive a class ElectricCar\n",
        "#  that adds a battery attribute.\n",
        "class Vehicle:\n",
        "  def __init__(self,Type):\n",
        "    self.Type=Type\n",
        "class Car(Vehicle):\n",
        "  def __init__(self,Type,Brand):\n",
        "    super().__init__(Type)\n",
        "    self.Brand=Brand\n",
        "class ElectricCar(Car):\n",
        "  def __init__(self, Type,Brand,Battery):\n",
        "    super().__init__(Type,Brand)\n",
        "    self.Battery=Battery\n",
        "\n",
        "e_car=ElectricCar(Type=\"SUV\",Brand=\"TATA Harier\",Battery=\"75 KwH\")\n",
        "print(f\"The new {e_car.Brand} is a {e_car.Type} with massive {e_car.Battery} battery power\")"
      ],
      "metadata": {
        "colab": {
          "base_uri": "https://localhost:8080/"
        },
        "id": "AFXvORcQr5aT",
        "outputId": "d0f9dc8c-3d11-445c-fb62-12ab1eff58b7"
      },
      "execution_count": null,
      "outputs": [
        {
          "output_type": "stream",
          "name": "stdout",
          "text": [
            "The new TATA Harier is a SUV with massive 75 KwH battery power\n"
          ]
        }
      ]
    },
    {
      "cell_type": "code",
      "source": [
        "# 4. Demonstrate polymorphism by creating a base class Bird with a method fly().\n",
        "#  Create two derived classes Sparrow and Penguin that override the fly() method.\n",
        "class Bird:\n",
        "  def fly(self):\n",
        "    print(\"Birds are beautiful and have wings\")\n",
        "class Sparrow(Bird):\n",
        "  def fly(self):\n",
        "    print(\"Sparrow are small and can fly\")\n",
        "class Penguin(Bird):\n",
        "  def fly(self):\n",
        "    print(\"Penguins live in polar region and cannot fly\")\n",
        "obj1=Sparrow()\n",
        "obj1.fly()\n",
        "obj2=Penguin()\n",
        "obj2.fly()\n"
      ],
      "metadata": {
        "colab": {
          "base_uri": "https://localhost:8080/"
        },
        "id": "n3DcJHh1vmbz",
        "outputId": "8868002d-89be-416c-e548-a479177a5d78"
      },
      "execution_count": null,
      "outputs": [
        {
          "output_type": "stream",
          "name": "stdout",
          "text": [
            "Sparrow are small and can fly\n",
            "Penguins live in polar region and cannot fly\n"
          ]
        }
      ]
    },
    {
      "cell_type": "code",
      "source": [
        "# 5. Write a program to demonstrate encapsulation by creating a\n",
        "# class BankAccount with private attributes balance and methods to\n",
        "# deposit, withdraw, and check balance.\n",
        "class BankAccount:\n",
        "  def __init__(self,name,bal):\n",
        "    self.__name=name\n",
        "    self.__balance=bal\n",
        "  def showbalance(self):\n",
        "    return self.__balance\n",
        "  def deposit(self,amt):\n",
        "    if amt>0:\n",
        "      self.__balance +=amt\n",
        "      print(f\"The amount {amt} is deposited\")\n",
        "      print(\"new balance is :\",BankAccount.showbalance(self))\n",
        "    else:\n",
        "      print(\"Invalid amount entered!!!\")\n",
        "  def withdraw(self,amt):\n",
        "    if self.__balance >= amt:\n",
        "      self.__balance -=amt\n",
        "      print(f\"The amount deducted is {amt}\")\n",
        "      print(\"new balance is :\",BankAccount.showbalance(self))\n",
        "    else:\n",
        "      print(\"Invalid amount entered!!!\")\n",
        "\n",
        "banking= BankAccount(\"Rahul\",5480)\n",
        "print(\"Current Balance available is \", banking.showbalance())\n",
        "banking.deposit(500)\n",
        "print(\"Current Balance available is \", banking.showbalance())\n",
        "banking.withdraw(1000)\n",
        "print(\"Current Balance available is \", banking.showbalance())\n",
        "\n"
      ],
      "metadata": {
        "colab": {
          "base_uri": "https://localhost:8080/"
        },
        "id": "1UaDyBwk2Gct",
        "outputId": "c2f92acb-1386-4318-f988-4182c71570d0"
      },
      "execution_count": null,
      "outputs": [
        {
          "output_type": "stream",
          "name": "stdout",
          "text": [
            "Current Balance available is  5480\n",
            "The amount 500 is deposited\n",
            "new balance is : 5980\n",
            "Current Balance available is  5980\n",
            "The amount deducted is 1000\n",
            "new balance is : 4980\n",
            "Current Balance available is  4980\n"
          ]
        }
      ]
    },
    {
      "cell_type": "code",
      "source": [
        "# 6. Demonstrate runtime polymorphism using a method play() in a\n",
        "# base class Instrument. Derive classes Guitar and Piano that implement\n",
        "# their own version of play().\n",
        "class Instrument:\n",
        "  def play(self):\n",
        "    print(\"Instrument is playing\")\n",
        "\n",
        "class Guitar(Instrument):\n",
        "  def play(self):\n",
        "    print(\"Guitar sounds melodious\")\n",
        "\n",
        "class Piano(Instrument):\n",
        "  def play(self):\n",
        "    print(\"Piano sounds melodious\")\n",
        "\n",
        "guitar = Guitar()\n",
        "guitar.play()\n",
        "piano = Piano()\n",
        "piano.play()"
      ],
      "metadata": {
        "colab": {
          "base_uri": "https://localhost:8080/"
        },
        "id": "sTgGlNWp3i1m",
        "outputId": "17be91dd-17b1-4383-b50c-3dabb19bdc15"
      },
      "execution_count": null,
      "outputs": [
        {
          "output_type": "stream",
          "name": "stdout",
          "text": [
            "Guitar sounds melodious\n",
            "Piano sounds melodious\n"
          ]
        }
      ]
    },
    {
      "cell_type": "code",
      "source": [
        "# 7. Create a class MathOperations with a class method add_numbers() to\n",
        "# add two numbers and a static method subtract_numbers()\n",
        "# to subtract two numbers.\n",
        "class MathOperations:\n",
        "\n",
        "  @classmethod\n",
        "  def add_numbers(cls,x,y):\n",
        "    return x+y\n",
        "\n",
        "  @staticmethod\n",
        "  def subtract_numbers(x,y):\n",
        "    return x-y\n",
        "a=50\n",
        "b=30\n",
        "print(f\"Sum of numbers {a} and {b} is : {MathOperations.add_numbers(a,b)}\")\n",
        "print(f\"Subtraction of numbers {a} and {b} is : {MathOperations.subtract_numbers(a,b)}\")"
      ],
      "metadata": {
        "colab": {
          "base_uri": "https://localhost:8080/"
        },
        "id": "gYn4dz-7CxvK",
        "outputId": "4fdb9cf0-ae86-4aca-eaa7-9c9a22512d34"
      },
      "execution_count": null,
      "outputs": [
        {
          "output_type": "stream",
          "name": "stdout",
          "text": [
            "Sum of numbers 50 and 30 is : 80\n",
            "Subtraction of numbers 50 and 30 is : 20\n"
          ]
        }
      ]
    },
    {
      "cell_type": "code",
      "source": [
        "# 8. Implement a class Person with a class method to count the\n",
        "#    total number of persons created.\n",
        "class Person:\n",
        "  __count=0\n",
        "  def __init__(self,name):\n",
        "    self.name=name\n",
        "    Person.__count+=1\n",
        "  @classmethod\n",
        "  def countperson(cls):\n",
        "    return cls.__count\n",
        "p1=Person(\"Amar\")\n",
        "p2=Person(\"Akbar\")\n",
        "p3=Person(\"Anthony\")\n",
        "print(\"Total persons enrolled : \", Person.countperson())"
      ],
      "metadata": {
        "colab": {
          "base_uri": "https://localhost:8080/"
        },
        "id": "8E9mgttdEVB7",
        "outputId": "c00bd49d-b1cd-4cbf-e58b-fa5e326cd52b"
      },
      "execution_count": null,
      "outputs": [
        {
          "output_type": "stream",
          "name": "stdout",
          "text": [
            "Total persons enrolled :  3\n"
          ]
        }
      ]
    },
    {
      "cell_type": "code",
      "source": [
        "#  9. Write a class Fraction with attributes numerator and denominator.\n",
        "# Override the str method to display the fraction as \"numerator/denominator\".\n",
        "class Fraction:\n",
        "  def __init__(self,numerator,denominator):\n",
        "    self.numerator=numerator\n",
        "    self.denominator=denominator\n",
        "  def __str__(self):\n",
        "    return f\"{self.numerator}/{self.denominator}\"\n",
        "\n",
        "myfrac=Fraction(5,6)\n",
        "print(myfrac)"
      ],
      "metadata": {
        "colab": {
          "base_uri": "https://localhost:8080/"
        },
        "id": "R2j9BdoWG0R6",
        "outputId": "5cdbb598-c00a-47ea-f207-baee594e2b08"
      },
      "execution_count": null,
      "outputs": [
        {
          "output_type": "stream",
          "name": "stdout",
          "text": [
            "5/6\n"
          ]
        }
      ]
    },
    {
      "cell_type": "code",
      "source": [
        "# 10. Demonstrate operator overloading by creating a class Vector and\n",
        "#  overriding the add method to add two vectors.\n",
        "class Vectors:\n",
        "  def __init__(self,a,b):\n",
        "    self.a=a\n",
        "    self.b=b\n",
        "  def __add__(self,new):\n",
        "    return Vectors(self.a+new.a,self.b+new.b)\n",
        "    #not adding vectors here would make it tuple and will not take str.\n",
        "  def __str__(self):\n",
        "    return f\"Your vector is {self.a} + {self.b} j.\"\n",
        "\n",
        "v1=Vectors(2,4)\n",
        "v2=Vectors(3,5)\n",
        "myvec=v1+v2\n",
        "print(myvec)"
      ],
      "metadata": {
        "colab": {
          "base_uri": "https://localhost:8080/"
        },
        "id": "EJqAMpV0RLpp",
        "outputId": "71d7bc72-bc54-44d2-a8c9-0f547e6d2624"
      },
      "execution_count": 55,
      "outputs": [
        {
          "output_type": "stream",
          "name": "stdout",
          "text": [
            "Your vector is 5 + 9 j.\n"
          ]
        }
      ]
    },
    {
      "cell_type": "code",
      "source": [
        "# 11. Create a class Person with attributes name and age.\n",
        "# Add a method greet() that prints\n",
        "#  \"Hello, my name is {name} and I am {age} years old.\"\n",
        "class Person:\n",
        "  def __init__(self,name,age):\n",
        "    self.name=name\n",
        "    self.age=age\n",
        "  def greet(self):\n",
        "    print(f\"Hello, my name is {self.name} and I am {self.age} years old.\")\n",
        "\n",
        "per1=Person(\"Superman\",50)\n",
        "per1.greet()"
      ],
      "metadata": {
        "id": "AgS2KzUESrJ3",
        "colab": {
          "base_uri": "https://localhost:8080/"
        },
        "outputId": "4572075c-729b-4fad-8c74-17878890a631"
      },
      "execution_count": 57,
      "outputs": [
        {
          "output_type": "stream",
          "name": "stdout",
          "text": [
            "Hello, my name is Superman and I am 50 years old.\n"
          ]
        }
      ]
    },
    {
      "cell_type": "code",
      "source": [
        "# 12. Implement a class Student with attributes name and grades.\n",
        "#  Create a method average_grade() to compute the average of the grades.\n",
        "class Students:\n",
        "  def __init__(self,name,grades):\n",
        "    self.name=name\n",
        "    self.grades=grades\n",
        "  def average_grade(self):\n",
        "    return sum(self.grades)/len(self.grades)\n",
        "student1=Students(\"Raja Ram Mohan Roy\",[98,97,100,99,98])\n",
        "print(f\"Result of student {student1.name} is {student1.average_grade()} %.\")"
      ],
      "metadata": {
        "colab": {
          "base_uri": "https://localhost:8080/"
        },
        "id": "EIYXEt3ibD3f",
        "outputId": "5d4d05f7-8acb-406c-dfbc-65a967057792"
      },
      "execution_count": 61,
      "outputs": [
        {
          "output_type": "stream",
          "name": "stdout",
          "text": [
            "Result of student Raja Ram Mohan Roy is 98.4 %.\n"
          ]
        }
      ]
    },
    {
      "cell_type": "code",
      "source": [
        "# 13. Create a class Rectangle with methods set_dimensions() to set\n",
        "#  the dimensions and area() to calculate the area.\n",
        "class Rectangle:\n",
        "  def __init__(self):\n",
        "    self.l=0\n",
        "    self.b=0\n",
        "  def set_dimensions(self,l,b):\n",
        "    self.l=l\n",
        "    self.b=b\n",
        "  def area(self):\n",
        "    return self.l*self.b\n",
        "Area_rec=Rectangle()\n",
        "Area_rec.set_dimensions(5,6)\n",
        "print(f\"The area of length {Area_rec.l} and breath {Area_rec.b} is {Area_rec.area()}.\")\n"
      ],
      "metadata": {
        "colab": {
          "base_uri": "https://localhost:8080/"
        },
        "id": "fhJMjvY0blaK",
        "outputId": "ba7d3d1e-0942-47bb-e40e-9c0e5ec4a58f"
      },
      "execution_count": 63,
      "outputs": [
        {
          "output_type": "stream",
          "name": "stdout",
          "text": [
            "The area of length 5 and breath 6 is 30.\n"
          ]
        }
      ]
    },
    {
      "cell_type": "code",
      "source": [
        "# 14. Create a class Employee with a method calculate_salary() that\n",
        "#  computes the salary based on hours worked and hourly rate.\n",
        "# Create a derived class Manager that adds a bonus to the salary.\n",
        "class Employee:\n",
        "  def __init__(self, hours_worked, hourly_rate):\n",
        "    self.hours_worked = hours_worked\n",
        "    self.hourly_rate = hourly_rate\n",
        "  def calculate_salary(self):\n",
        "    return self.hours_worked * self.hourly_rate\n",
        "\n",
        "class Manager(Employee):\n",
        "  def __init__(self, hours_worked, hourly_rate, bonus):\n",
        "    super().__init__(hours_worked, hourly_rate)\n",
        "    self.bonus = bonus\n",
        "\n",
        "  def calculate_salary(self):\n",
        "    base_salary = super().calculate_salary()\n",
        "    return base_salary + self.bonus\n",
        "\n",
        "emp1 = Employee(40, 25)\n",
        "print(f\"Employee salary: Rs. {emp1.calculate_salary()}\")\n",
        "\n",
        "manager1 = Manager(40, 30, 500)\n",
        "print(f\"Manager salary: Rs. {manager1.calculate_salary()}\")"
      ],
      "metadata": {
        "colab": {
          "base_uri": "https://localhost:8080/"
        },
        "id": "-shJpg_bnU12",
        "outputId": "31a78d03-8562-487b-b5e3-5cad0e22d01b"
      },
      "execution_count": 73,
      "outputs": [
        {
          "output_type": "stream",
          "name": "stdout",
          "text": [
            "Employee salary: Rs. 1000\n",
            "Manager salary: Rs. 1700\n"
          ]
        }
      ]
    },
    {
      "cell_type": "code",
      "source": [
        "# 15. Create a class Product with attributes name, price, and quantity.\n",
        "#  Implement a method total_price() that calculates the total\n",
        "#  price of the product.\n",
        "class Product:\n",
        "  def __init__(self,name, price,quantity):\n",
        "    self.name=name\n",
        "    self.price=price\n",
        "    self.quantity=quantity\n",
        "  def total_price(self):\n",
        "    return ( self.price*self.quantity)\n",
        "pro1=Product(\"Macbook pro\",120000,4)\n",
        "print(f\"Total price of {pro1.name} is {pro1.total_price()}\")"
      ],
      "metadata": {
        "colab": {
          "base_uri": "https://localhost:8080/"
        },
        "id": "xGg39pwBew6Q",
        "outputId": "4f3a1e7e-c1bd-46cc-c708-f989c3803732"
      },
      "execution_count": 67,
      "outputs": [
        {
          "output_type": "stream",
          "name": "stdout",
          "text": [
            "Total price of Macbook pro is 480000\n"
          ]
        }
      ]
    },
    {
      "cell_type": "code",
      "source": [
        "# 16. Create a class Animal with an abstract method sound().\n",
        "# Create two derived classes Cow and Sheep that implement the sound() method.\n",
        "from abc import ABC, abstractmethod\n",
        "class Animal:\n",
        "  @abstractmethod\n",
        "  def sound(self):\n",
        "    print(\"Animal sounds diffently with situation\")\n",
        "class Cow(Animal):\n",
        "  def sound(self):\n",
        "    print(\"Cow sounds like Maaaa\")\n",
        "class Sheep(Animal):\n",
        "  def sound(self):\n",
        "    print(\"Sheep sounds like Mehhhh\")\n",
        "\n",
        "cow_obj=Cow()\n",
        "cow_obj.sound()\n",
        "Sheep_obj=Sheep()\n",
        "Sheep_obj.sound()\n"
      ],
      "metadata": {
        "colab": {
          "base_uri": "https://localhost:8080/"
        },
        "id": "Zf9P5o69gmNf",
        "outputId": "d30e79c9-7e5c-4b3e-d839-2b92fd5a5dc3"
      },
      "execution_count": 70,
      "outputs": [
        {
          "output_type": "stream",
          "name": "stdout",
          "text": [
            "Cow sounds like Maaaa\n",
            "Sheep sounds like Mehhhh\n"
          ]
        }
      ]
    },
    {
      "cell_type": "code",
      "source": [
        "# 17. Create a class Book with attributes title, author, and year_published.\n",
        "#  Add a method get_book_info() that returns a formatted\n",
        "#  string with the book's details.\n",
        "class Book:\n",
        "  def __init__(self, title, author, year_published):\n",
        "      self.title = title\n",
        "      self.author = author\n",
        "      self.year_published = year_published\n",
        "\n",
        "  def get_book_info(self):\n",
        "      return f\"Title: {self.title}, Author: {self.author}, Year: {self.year_published}\"\n",
        "\n",
        "book1 = Book(\"Malgudi days\", \"R. k. Narayan\", 1943)\n",
        "print(book1.get_book_info())"
      ],
      "metadata": {
        "colab": {
          "base_uri": "https://localhost:8080/"
        },
        "id": "NI3du5-Fiszm",
        "outputId": "29b33fd9-5317-4f06-c5e3-1a2aff1dc0e1"
      },
      "execution_count": 71,
      "outputs": [
        {
          "output_type": "stream",
          "name": "stdout",
          "text": [
            "Title: Malgudi days, Author: R. k. Narayan, Year: 1943\n"
          ]
        }
      ]
    },
    {
      "cell_type": "code",
      "source": [
        "# 18. Create a class House with attributes address and price.\n",
        "# Create a derived class Mansion that adds an attribute number_of_rooms.\n",
        "class House:\n",
        "  def __init__(self,address,price):\n",
        "    self.address=address\n",
        "    self.price=price\n",
        "class Mansion(House):\n",
        "  def __init__(self,address,price,number_of_rooms):\n",
        "    self.number_of_rooms=number_of_rooms\n",
        "    super().__init__(address,price)\n",
        "\n",
        "house1 = House(\"DLF Gurugram\", 30000000)\n",
        "mansion1 = Mansion(\"Suncity Gurugram\", 210000000, 6)\n",
        "print(f\"House address: {house1.address}, price: Rs. {house1.price}\")\n",
        "print(f\"Mansion address: {mansion1.address}, price: Rs. {mansion1.price}, rooms: {mansion1.number_of_rooms}\")"
      ],
      "metadata": {
        "colab": {
          "base_uri": "https://localhost:8080/"
        },
        "id": "bbyNr2eQkyw4",
        "outputId": "b97339a3-0f5b-458e-f2e6-0904a5099a4a"
      },
      "execution_count": 72,
      "outputs": [
        {
          "output_type": "stream",
          "name": "stdout",
          "text": [
            "House address: DLF Gurugram, price: Rs. 30000000\n",
            "Mansion address: Suncity Gurugram, price: Rs. 210000000, rooms: 6\n"
          ]
        }
      ]
    }
  ]
}