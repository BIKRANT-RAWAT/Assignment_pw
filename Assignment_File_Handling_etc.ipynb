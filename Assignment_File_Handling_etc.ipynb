{
  "nbformat": 4,
  "nbformat_minor": 0,
  "metadata": {
    "colab": {
      "provenance": []
    },
    "kernelspec": {
      "name": "python3",
      "display_name": "Python 3"
    },
    "language_info": {
      "name": "python"
    }
  },
  "cells": [
    {
      "cell_type": "markdown",
      "source": [
        "#Theory_Questions"
      ],
      "metadata": {
        "id": "wJs3uv_84-M4"
      }
    },
    {
      "cell_type": "markdown",
      "source": [
        "1. What is the difference between interpreted and compiled languages?\n",
        "- Interpreted languages>> Interpreted languages are executed line by line by an interpreter, translating code into machine instructions at runtime. This allows for more flexibility and easier debugging however, can be slower. for example python.\n",
        "- Compiled languages>> complied languages are translated entirely into machine code by a compiler before execution. This typically results in faster execution however, requires a separate compilation step. for example C++\n",
        "---\n",
        "\n",
        "2. What is exception handling in Python?\n",
        "- Exception handling is a tool to deal with runtime errors that disrupt the normal flow of a program. It allows user to handle errors and prevent program crashes.\n",
        "---\n",
        "\n",
        "3. What is the purpose of the finally block in exception handling?\n",
        "- The finally block ensures that a specific block of code is always executed, regardless of whether an exception occurred or not. It is commonly used for cleanup operations like closing files or releasing resources or any compulsary task that needs to be performed in all conditions.\n",
        "---\n",
        "\n",
        "4. What is logging in Python?\n",
        "- Logging is the process of recording events that occur during the execution of a program. It helps in debugging, monitoring, and understanding the program's behavior.\n",
        "---\n",
        "\n",
        "5. What is the significance of the __del__ method in Python?\n",
        "- The __del__ method, also known as the destructor, is called when an object is about to be garbage collected. It is used to perform cleanup operations before an object is destroyed, such as releasing external resources.\n",
        "---\n",
        "\n",
        "6. What is the difference between import and from ... import in Python?\n",
        "- \"import module_name\", Imports the entire module, requiring you to access its contents using \"module_name.item\" whereas , \"from module_name import item\", Imports specific items (functions, classes, variables) directly into the current namespace, allowing you to use them without the module prefix.\n",
        "---\n",
        "\n",
        "7. How can you handle multiple exceptions in Python?\n",
        "- We can handle multiple exceptions by using multiple except blocks, each catching a specific exception type. Also, group multiple exceptions in a single except block using a tuple.\n",
        "---\n",
        "\n",
        "8. What is the purpose of the with statement when handling files in Python?\n",
        "- The \"with\" statement ensures proper resource management, particularly for file operations. It ensures that the file is automatically closed after the block of code is executed, even if errors occur.\n",
        "---\n",
        "\n",
        "9. What is the difference between multithreading and multiprocessing?\n",
        "- Multithreading involves multiple threads executing concurrently within a single process, sharing the same memory space.It involves single core performance. It is suitable for Input/Output bound tasks.On the other hand, Multiprocessing involves multiple independent processes, each with its own memory space.It works on multiple cores. It's suitable for CPU-bound tasks and can leverage multiple CPU cores.\n",
        "---\n",
        "\n",
        "10. What are the advantages of using logging in a program?\n",
        "- There are multiple uses of logging in a program.\n",
        "  * Debugging and troubleshooting.\n",
        "  * Monitoring application performance.\n",
        "  * Auditing and security analysis.\n",
        "  * Understanding program flow and behavior.\n",
        "---\n",
        "\n",
        "11. What is memory management in Python?\n",
        "- Python uses a private heap to manage memory. It employs automatic garbage collection (reference counting and generational garbage collection) to reclaim memory occupied by objects no longer in use.\n",
        "---\n",
        "\n",
        "12. What are the basic steps involved in exception handling in Python?\n",
        "- These are the following steps:\n",
        "  * try block:\n",
        "    Contains the code that might raise an exception.\n",
        "  *except block:\n",
        "    Catches and handles specific exceptions.\n",
        "  *else block:\n",
        "    Executes if no exception occurs in the try block.\n",
        "  * finally block:\n",
        "    Executes regardless of whether an exception occurred.\n",
        "---\n",
        "\n",
        "13. Why is memory management important in Python?\n",
        "- Efficient memory management prevents memory leaks, improves performance, and ensures that resources are properly allocated and deallocated, leading to more stable and reliable applications.\n",
        "---\n",
        "\n",
        "14. What is the role of try and except in exception handling?\n",
        "- Role of try and except are:\n",
        "  * try block:\n",
        "    Contains the code that might raise an exception.\n",
        "  *except block:\n",
        "    Catches and handles specific exceptions.\n",
        "---\n",
        "\n",
        "15. How does Python's garbage collection system work?\n",
        "- Python primarily uses reference counting, where each object keeps track of the number of references pointing to it. When the reference count drops to zero, the object is deallocated. Moreover, it also uses a generational garbage collector to handle circular references and collect objects that are not reachable through reference counting.\n",
        "---\n",
        "\n",
        "16. What is the purpose of the else block in exception handling?\n",
        "- The \"else\" block in an except statement executes only if no exception is raised within the corresponding try block. It is useful for code that should run only when the try block completes successfully.\n",
        "---\n",
        "\n",
        "17. What are the common logging levels in Python?\n",
        "- There are 5 common logging levels in python. They are:\n",
        "  * DEBUG: Detailed information, typically of interest only when diagnosing problems.\n",
        "  * INFO: Confirmation that things are working as expected.\n",
        "  * WARNING: An indication that something unexpected happened, or indicative of some problem in the near future.\n",
        "  * ERROR: Due to a more serious problem, the software has not been able to perform some function.\n",
        "  * CRITICAL: A serious error, indicating that the program itself may be unable to continue running.\n",
        "---\n",
        "\n",
        "18. What is the difference between os.fork() and multiprocessing in Python?\n",
        "- \"os.fork()\" Creates a new process by duplicating the current process, including its memory space. It is a lower level function and might not be available on all operating systems. Whereas, \"multiprocessing module\" Provides a higher level, cross-platform API for creating and managing processes, offering more robust features for inter process communication and synchronization.\n",
        "---\n",
        "\n",
        "19. What is the importance of closing a file in Python?\n",
        "- Closing a file releases the system resources held by the file and ensures that all buffered data is written to the disk. Failing to close a file can lead to data corruption, resource leaks, and unexpected behavior.\n",
        "---\n",
        "\n",
        "20. What is the difference between file.read() and file.readline() in Python?\n",
        "- \" file.read()\" Reads the entire content of the file as a single string. Whereas, \"file.readline()\" Reads a single line from the file, including the newline character, and returns it as a string.\n",
        "---\n",
        "\n",
        "21. What is the logging module in Python used for?\n",
        "- The logging module provides a flexible framework for emitting log messages from applications and libraries. It enables to configure different logging levels, handlers, and formatters for various logging needs.\n",
        "---\n",
        "\n",
        "22. What is the os module in Python used for in file handling?\n",
        "- The \"os module\" provides functions for interacting with the operating system, including file and directory operations like creating, deleting, renaming, and listing files and directories, as well as path manipulation.\n",
        "---\n",
        "\n",
        "23. What are the challenges associated with memory management in Python?\n",
        "- Challenges associated with memory management in Python:\n",
        "  * Circular references: Can prevent objects from being garbage collected by reference counting alone.\n",
        "  * Memory fragmentation: Can occur over time, making it harder to allocate large contiguous blocks of memory.\n",
        "  * Performance overhead: Garbage collection can introduce pauses during execution.\n",
        "---\n",
        "\n",
        "24. How do you raise an exception manually in Python?\n",
        "- We can raise an exception manually using the \"raise\" statement, followed by the exception type and an optional message, e.g., raise ValueError(\"Invalid input\").\n",
        "---\n",
        "\n",
        "25. Why is it important to use multithreading in certain applications?\n",
        "- Multithreading is important for applications that involve input/output bound operations (e.g., network requests, file I/O) where threads can wait for I/O operations to complete without blocking the entire program, improving responsiveness and perceived performance.\n",
        "---"
      ],
      "metadata": {
        "id": "n1lIG53a4xfJ"
      }
    },
    {
      "cell_type": "markdown",
      "source": [
        "#Practical_Questions"
      ],
      "metadata": {
        "id": "0ioJS5vmGI-L"
      }
    },
    {
      "cell_type": "code",
      "source": [
        "# 1. How can you open a file for writing in Python and write a string to it?\n",
        "with open (\"myfile.txt\",\"w\") as f:\n",
        "  f.write(\"This is the text inside the file.\\n This is new line.\")"
      ],
      "metadata": {
        "id": "J3_XGQkkMy5P"
      },
      "execution_count": 29,
      "outputs": []
    },
    {
      "cell_type": "code",
      "source": [
        "# 2. Write a Python program to read the contents of a file and print each line.\n",
        "with open (\"myfile.txt\",\"r\") as f:\n",
        "  for line in f:\n",
        "    print(line.strip())"
      ],
      "metadata": {
        "colab": {
          "base_uri": "https://localhost:8080/"
        },
        "id": "ZHTY06s-NkAj",
        "outputId": "d7765f13-35f6-4bc4-e513-384597920d5e"
      },
      "execution_count": 30,
      "outputs": [
        {
          "output_type": "stream",
          "name": "stdout",
          "text": [
            "This is the text inside the file.\n",
            "This is new line.\n"
          ]
        }
      ]
    },
    {
      "cell_type": "code",
      "source": [
        "# 3. How would you handle a case where the file doesn't exist\n",
        "#    while trying to open it for reading?\n",
        "try:\n",
        "  with open (\"newfile.txt\",\"r\") as f:\n",
        "    for line in f:\n",
        "      print(line.strip())\n",
        "except FileNotFoundError:\n",
        "  print(\"File doesn't exist!!\")\n",
        ""
      ],
      "metadata": {
        "colab": {
          "base_uri": "https://localhost:8080/"
        },
        "id": "5TNrwIWbO0_Z",
        "outputId": "31af2466-76cb-4d53-c093-8ccb29824795"
      },
      "execution_count": 31,
      "outputs": [
        {
          "output_type": "stream",
          "name": "stdout",
          "text": [
            "File doesn't exist!!\n"
          ]
        }
      ]
    },
    {
      "cell_type": "code",
      "source": [
        "# 4. Write a Python script that reads from one file and\n",
        "#    writes its content to another file.\n",
        "try:\n",
        "    with open(\"myfile.txt\", \"r\") as source_file:\n",
        "        content = source_file.read()\n",
        "    with open(\"copymyfile.txt\", \"w\") as dest_file:\n",
        "        dest_file.write(content)\n",
        "except FileNotFoundError:\n",
        "    print(\"Error: Source file not found.\")"
      ],
      "metadata": {
        "id": "UGvG2zTbQILx"
      },
      "execution_count": 32,
      "outputs": []
    },
    {
      "cell_type": "code",
      "source": [
        "# 5. How would you catch and handle division by zero error in Python?\n",
        "try:\n",
        "  x=5/0\n",
        "except ZeroDivisionError:\n",
        "  print(\"Number not divisible by Zero.\")"
      ],
      "metadata": {
        "colab": {
          "base_uri": "https://localhost:8080/"
        },
        "id": "JcxLTD2CSJMW",
        "outputId": "27b0405e-b620-4146-b78c-6fa87b11a93b"
      },
      "execution_count": 33,
      "outputs": [
        {
          "output_type": "stream",
          "name": "stdout",
          "text": [
            "Number not divisible by Zero.\n"
          ]
        }
      ]
    },
    {
      "cell_type": "code",
      "source": [
        "# 6. Write a Python program that logs an error message to a log file\n",
        "#    when a division by zero exception occurs.\n",
        "import logging\n",
        "\n",
        "logging.basicConfig(filename='mylogfile.log', level=logging.ERROR)\n",
        "\n",
        "try:\n",
        "    result = 10 / 0\n",
        "except ZeroDivisionError:\n",
        "    logging.error(\"Number not divisible by Zero.\")"
      ],
      "metadata": {
        "colab": {
          "base_uri": "https://localhost:8080/"
        },
        "id": "Vo0YgS_zSpoZ",
        "outputId": "f15f60fa-d743-4832-c80a-9c3e2a967800"
      },
      "execution_count": 34,
      "outputs": [
        {
          "output_type": "stream",
          "name": "stderr",
          "text": [
            "ERROR: Number not divisible by Zero.\n"
          ]
        }
      ]
    },
    {
      "cell_type": "code",
      "source": [
        "# 7. How do you log information at different levels (INFO, ERROR, WARNING)\n",
        "#    in Python using the logging module?\n",
        "import logging\n",
        "\n",
        "logging.basicConfig(level=logging.INFO, format='%(levelname)s: %(message)s',force=True)\n",
        "\n",
        "logging.info(\"This is an informational message.\")\n",
        "logging.warning(\"This is a warning message.\")\n",
        "logging.error(\"This is an error message.\")"
      ],
      "metadata": {
        "colab": {
          "base_uri": "https://localhost:8080/"
        },
        "id": "62DzxrkBU-P6",
        "outputId": "d2133da1-1958-4968-9861-6afb10324817"
      },
      "execution_count": 35,
      "outputs": [
        {
          "output_type": "stream",
          "name": "stderr",
          "text": [
            "INFO: This is an informational message.\n",
            "WARNING: This is a warning message.\n",
            "ERROR: This is an error message.\n"
          ]
        }
      ]
    },
    {
      "cell_type": "code",
      "source": [
        "# 8. Write a program to handle a file opening error using exception handling.\n",
        "try:\n",
        "    with open(\"file.txt\", \"r\") as f:\n",
        "        content = f.read()\n",
        "except IOError as e:\n",
        "    print(\"Error opening file: \", e)"
      ],
      "metadata": {
        "colab": {
          "base_uri": "https://localhost:8080/"
        },
        "id": "4xpA92qxqll4",
        "outputId": "d4d4b959-9558-430a-fe3c-b1762ca9ed95"
      },
      "execution_count": 36,
      "outputs": [
        {
          "output_type": "stream",
          "name": "stdout",
          "text": [
            "Error opening file:  [Errno 2] No such file or directory: 'file.txt'\n"
          ]
        }
      ]
    },
    {
      "cell_type": "code",
      "source": [
        "# 9. How can you read a file line by line and store its content\n",
        "#  in a list in Python?\n",
        "lines =[]\n",
        "with open(\"myfile.txt\",\"r\") as f:\n",
        "   for line in f:\n",
        "      lines.append(line.strip())"
      ],
      "metadata": {
        "id": "TM1h-32srxG1"
      },
      "execution_count": 37,
      "outputs": []
    },
    {
      "cell_type": "code",
      "source": [
        "# 10. How can you append data to an existing file in Python?\n",
        "with open (\"myfile.txt\",\"a\") as f:\n",
        "  f.write(\"\\nThis is appended data on the file myfile.txt\")"
      ],
      "metadata": {
        "id": "JyIm1m_s1yOP"
      },
      "execution_count": 38,
      "outputs": []
    },
    {
      "cell_type": "code",
      "source": [
        "# 11. Write a Python program that uses a try-except block to handle\n",
        "#     an error when attempting to access a dictionary key that\n",
        "#     doesn't exist.\n",
        "try:\n",
        "  mydict={\"Name\":\"Radhe Shyaam Tiwari\",\"Age\":50}\n",
        "  print(mydict[\"class\"])\n",
        "except KeyError:\n",
        "  print(\"Key Value pair unidentified\")"
      ],
      "metadata": {
        "colab": {
          "base_uri": "https://localhost:8080/"
        },
        "id": "NUYU62r42NAS",
        "outputId": "04660ec6-3ebe-45f7-ab68-e96087e97a2b"
      },
      "execution_count": 39,
      "outputs": [
        {
          "output_type": "stream",
          "name": "stdout",
          "text": [
            "Key Value pair unidentified\n"
          ]
        }
      ]
    },
    {
      "cell_type": "code",
      "source": [
        "# 12. Write a program that demonstrates using multiple except blocks\n",
        "#     to handle different types of exceptions.\n",
        "try:\n",
        "  result = 10 / 0\n",
        "  my_list = [1, 2]\n",
        "  value = my_list[3]\n",
        "except ZeroDivisionError:\n",
        "    print(\"Division not possible.\")\n",
        "except IndexError:\n",
        "    print(\"Index not found.\")\n",
        "except Exception as e:\n",
        "    print(f\"An unexpected error occurred: {e}\")"
      ],
      "metadata": {
        "colab": {
          "base_uri": "https://localhost:8080/"
        },
        "id": "_KhU3KbM7Hdo",
        "outputId": "082b774e-f80c-4591-cd06-434e02d9baf9"
      },
      "execution_count": 40,
      "outputs": [
        {
          "output_type": "stream",
          "name": "stdout",
          "text": [
            "Division not possible.\n"
          ]
        }
      ]
    },
    {
      "cell_type": "code",
      "source": [
        "# 13. How would you check if a file exists before attempting\n",
        "#     to read it in Python?\n",
        "import os\n",
        "if os.path.exists(\"myfile.txt\"):\n",
        "  with open(\"myfile.txt\", \"r\") as f:\n",
        "    for line in f:\n",
        "      print(line.strip())\n",
        "else:\n",
        "  print(\"File does not exist.\")"
      ],
      "metadata": {
        "colab": {
          "base_uri": "https://localhost:8080/"
        },
        "id": "XF8CrcrH71j6",
        "outputId": "7ac0a081-8e2c-4444-ed46-a9902874d9a0"
      },
      "execution_count": 41,
      "outputs": [
        {
          "output_type": "stream",
          "name": "stdout",
          "text": [
            "This is the text inside the file.\n",
            "This is new line.\n",
            "This is appended data on the file myfile.txt\n"
          ]
        }
      ]
    },
    {
      "cell_type": "code",
      "source": [
        "# 14. Write a program that uses the logging module to log\n",
        "# both informational and error messages.\n",
        "import logging\n",
        "\n",
        "logging.basicConfig(filename='mynewloginfoerr.log', level=logging.INFO, format='%(asctime)s - %(levelname)s - %(message)s')\n",
        "\n",
        "logging.info(\"Application started.\")\n",
        "try:\n",
        "  result = 10 / 0\n",
        "except ZeroDivisionError:\n",
        "  logging.error(\"Division by zero error occurred.\")"
      ],
      "metadata": {
        "colab": {
          "base_uri": "https://localhost:8080/"
        },
        "id": "CzHJGPMj9cIj",
        "outputId": "0c458943-5b4c-4020-ea79-5ec7f0876602"
      },
      "execution_count": 42,
      "outputs": [
        {
          "output_type": "stream",
          "name": "stderr",
          "text": [
            "INFO: Application started.\n",
            "ERROR: Division by zero error occurred.\n"
          ]
        }
      ]
    },
    {
      "cell_type": "code",
      "source": [
        "# 15. Write a Python program that prints the content of a file and\n",
        "#     handles the case when the file is empty.\n",
        "try:\n",
        "  with open(\"myfile.txt\",\"r\") as f:\n",
        "    line=f.read()\n",
        "    if not line:\n",
        "      print(\"file is empty\")\n",
        "    else:\n",
        "      print(line)\n",
        "except FileNotFoundError:\n",
        "  print(\"File is not present.\")"
      ],
      "metadata": {
        "colab": {
          "base_uri": "https://localhost:8080/"
        },
        "id": "dbjHyWqE_4ZP",
        "outputId": "88103ff1-d956-47e2-f602-4553fa35bb83"
      },
      "execution_count": 43,
      "outputs": [
        {
          "output_type": "stream",
          "name": "stdout",
          "text": [
            "This is the text inside the file.\n",
            " This is new line.\n",
            "This is appended data on the file myfile.txt\n"
          ]
        }
      ]
    },
    {
      "cell_type": "code",
      "source": [
        "# 16. Demonstrate how to use memory profiling to check\n",
        "#     the memory usage of a small program.\n",
        "!pip install -q memory-profiler\n",
        "\n",
        "%load_ext memory_profiler\n",
        "\n",
        "from memory_profiler import memory_usage\n",
        "\n",
        "def my_func():\n",
        "    a = [i for i in range(100000)]\n",
        "    b = [i * 2 for i in range(100000)]\n",
        "    del a\n",
        "    return b\n",
        "\n",
        "mem_usage = memory_usage(my_func)\n",
        "print(f\"Memory used: {max(mem_usage) - min(mem_usage):.2f} MiB\")\n"
      ],
      "metadata": {
        "colab": {
          "base_uri": "https://localhost:8080/"
        },
        "id": "u0XoeS9vBEYY",
        "outputId": "114eeea8-8f80-4856-df65-186edcba1991"
      },
      "execution_count": 44,
      "outputs": [
        {
          "output_type": "stream",
          "name": "stdout",
          "text": [
            "The memory_profiler extension is already loaded. To reload it, use:\n",
            "  %reload_ext memory_profiler\n",
            "Memory used: 0.00 MiB\n"
          ]
        }
      ]
    },
    {
      "cell_type": "code",
      "source": [
        "# 17. Write a Python program to create and write a list of numbers\n",
        "#     to a file, one number per line.\n",
        "with open(\"line_num.txt\",\"w\") as f:\n",
        "  for i in range (5):\n",
        "    f.write(f\"{i+1}\\n\")"
      ],
      "metadata": {
        "id": "YX7Ns2SGV3Y-"
      },
      "execution_count": 45,
      "outputs": []
    },
    {
      "cell_type": "code",
      "source": [
        "# 18. How would you implement a basic logging setup that\n",
        "#     logs to a file with rotation after 1 MB?\n",
        "import logging\n",
        "from logging.handlers import RotatingFileHandler\n",
        "\n",
        "log_file = \"rotated_log.log\"\n",
        "max_bytes = 1024 * 1024 # rotation after 1 MB\n",
        "backup_count = 5\n",
        "\n",
        "handler = RotatingFileHandler(log_file, maxBytes=max_bytes, backupCount=backup_count)\n",
        "formatter = logging.Formatter('%(asctime)s - %(levelname)s - %(message)s')\n",
        "handler.setFormatter(formatter)\n",
        "\n",
        "logger = logging.getLogger(__name__)\n",
        "logger.setLevel(logging.INFO)\n",
        "logger.addHandler(handler)\n",
        "\n",
        "logger.info(\"This is a log message.\")"
      ],
      "metadata": {
        "colab": {
          "base_uri": "https://localhost:8080/"
        },
        "id": "k9DNBVKyW5IE",
        "outputId": "7f19a8c6-06f8-494f-b7c0-edefad2ad0c3"
      },
      "execution_count": 46,
      "outputs": [
        {
          "output_type": "stream",
          "name": "stderr",
          "text": [
            "INFO: This is a log message.\n"
          ]
        }
      ]
    },
    {
      "cell_type": "code",
      "source": [
        "# 19. Write a program that handles both IndexError and KeyError\n",
        "#  using a try-except block.\n",
        "my_list = [500, 1000]\n",
        "my_dict = {\"age\": 10}\n",
        "\n",
        "try:\n",
        "  value_list = my_list[2]\n",
        "except IndexError:\n",
        "  print(\"IndexError: List index out of range.\")\n",
        "\n",
        "try:\n",
        "  value_dict = my_dict[\"Name\"]\n",
        "except KeyError:\n",
        "  print(\"KeyError: Dict key not found.\")"
      ],
      "metadata": {
        "colab": {
          "base_uri": "https://localhost:8080/"
        },
        "id": "UYPyEbGwYFOP",
        "outputId": "4993cf3f-ec11-41b3-dea3-ccaf7865d5f6"
      },
      "execution_count": 47,
      "outputs": [
        {
          "output_type": "stream",
          "name": "stdout",
          "text": [
            "IndexError: List index out of range.\n",
            "KeyError: Dict key not found.\n"
          ]
        }
      ]
    },
    {
      "cell_type": "code",
      "source": [
        "# 20. How would you open a file and read its contents\n",
        "#  using a context manager in Python?\n",
        "\n",
        "with open(\"myfile.txt\", \"r\") as f:\n",
        "  content = f.read()\n",
        "  print(content)"
      ],
      "metadata": {
        "colab": {
          "base_uri": "https://localhost:8080/"
        },
        "id": "aGd8dCNSYr34",
        "outputId": "2cbbe2c0-4365-4041-e3a0-8bcb9392d476"
      },
      "execution_count": 48,
      "outputs": [
        {
          "output_type": "stream",
          "name": "stdout",
          "text": [
            "This is the text inside the file.\n",
            " This is new line.\n",
            "This is appended data on the file myfile.txt\n"
          ]
        }
      ]
    },
    {
      "cell_type": "code",
      "source": [
        "# 21. Write a Python program that reads a file and\n",
        "#    prints the number of occurrences of a specific word.\n",
        "findword = \"the\"\n",
        "count = 0\n",
        "try:\n",
        "  with open(\"myfile.txt\", \"r\") as f:\n",
        "    content = f.read()\n",
        "    count = content.lower().count(findword.lower())\n",
        "    print(f\"The word '{findword}' appears {count} times.\")\n",
        "except FileNotFoundError:\n",
        "    print(\"File not found.\")"
      ],
      "metadata": {
        "colab": {
          "base_uri": "https://localhost:8080/"
        },
        "id": "FP_bxPwQZPZ1",
        "outputId": "96cc2833-7bd4-4312-fac0-9707cb25d4bd"
      },
      "execution_count": 49,
      "outputs": [
        {
          "output_type": "stream",
          "name": "stdout",
          "text": [
            "The word 'the' appears 3 times.\n"
          ]
        }
      ]
    },
    {
      "cell_type": "code",
      "source": [
        "# 22. How can you check if a file is empty before\n",
        "#     attempting to read its contents?\n",
        "import os\n",
        "\n",
        "filepath = \"myfile.txt\"\n",
        "if os.path.exists(filepath):\n",
        "  if os.path.getsize(filepath) == 0:\n",
        "    print(\"File is empty.\")\n",
        "  else:\n",
        "    print(\"File is not empty\")\n",
        "else:\n",
        "  print(\" File does not exist.\")"
      ],
      "metadata": {
        "colab": {
          "base_uri": "https://localhost:8080/"
        },
        "id": "QNHSDQcWaIFN",
        "outputId": "133f51c1-6aa7-4c88-8a1c-3c46dfa1c12d"
      },
      "execution_count": 50,
      "outputs": [
        {
          "output_type": "stream",
          "name": "stdout",
          "text": [
            "File is not empty\n"
          ]
        }
      ]
    },
    {
      "cell_type": "code",
      "source": [
        "# 23. Write a Python program that writes to a log file\n",
        "#     when an error occurs during file handling.\n",
        "import logging\n",
        "\n",
        "logging.basicConfig(filename='fileoferrors.log', level=logging.ERROR)\n",
        "\n",
        "try:\n",
        "  with open(\"unkonwn_file.txt\", \"r\") as f:\n",
        "    content = f.read()\n",
        "except FileNotFoundError as e:\n",
        "    logging.error(f\"File handling error: {e}\")"
      ],
      "metadata": {
        "colab": {
          "base_uri": "https://localhost:8080/"
        },
        "id": "X6S3iQVaU9Am",
        "outputId": "37ccd226-ff5d-42f0-ade2-2472ed9a3bff"
      },
      "execution_count": 51,
      "outputs": [
        {
          "output_type": "stream",
          "name": "stderr",
          "text": [
            "ERROR: File handling error: [Errno 2] No such file or directory: 'unkonwn_file.txt'\n"
          ]
        }
      ]
    }
  ]
}