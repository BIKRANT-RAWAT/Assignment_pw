{
  "nbformat": 4,
  "nbformat_minor": 0,
  "metadata": {
    "colab": {
      "provenance": []
    },
    "kernelspec": {
      "name": "python3",
      "display_name": "Python 3"
    },
    "language_info": {
      "name": "python"
    }
  },
  "cells": [
    {
      "cell_type": "markdown",
      "source": [
        "#Statistics Advanced - 1| Assignment\n",
        "## Assignment Code: DA-AG-006\n"
      ],
      "metadata": {
        "id": "BlT6EkxYGwKI"
      }
    },
    {
      "cell_type": "markdown",
      "source": [
        "Question 1: What is a random variable in probability theory?\n",
        "- A random variable is a fundamental concept in probability theory. It is a variable whose values are outcomes of a random experiment, and it provides a numerical description of the randomness involved. Formally, a random variable is defined as a function that maps elements of a sample space to real numbers.\n",
        "\n",
        "  - For example, if we toss a fair coin, the sample space is Head or  Tail.\n",
        "   We can define a random variable X as:\n",
        "\n",
        "    - X = 1 if Head occurs\n",
        "    - X = 0 if Tail occurs.\n",
        "\n",
        "Thus, the random variable assigns numerical values to outcomes.\n",
        "\n",
        "---\n",
        "\n",
        "Question 2: What are the types of random variables?\n",
        "\n",
        "- Random variables are broadly classified into two main types based on the nature of values they can take: discrete random variables and continuous random variables.\n",
        "  - Discrete Random Variable : A random variable is called discrete if it takes only a finite or countably infinite number of distinct values. The values are often whole numbers. The probabilities of these values are described by a Probability Mass Function (PMF).\n",
        "    - Examples:\n",
        "      - The number of heads in 3 coin tosses → possible values: (0, 1, 2, 3).\n",
        "      - Number of students present in a class.\n",
        "      - Rolling a fair die → values: (1, 2, 3, 4, 5, 6).\n",
        "\n",
        "  - Continuous Random Variable:  A random variable is called continuous if it can take infinitely many values over a real interval. The values are uncountable, usually real numbers. Probabilities are described by a Probability Density Function (PDF).\n",
        "    - Examples:\n",
        "      - The height of students in a class.\n",
        "      - The time taken to finish an exam.\n",
        "      - The weight of a packet of rice.\n",
        "\n",
        "---\n",
        "Question 3: Explain the difference between discrete and continuous distributions.\n",
        "- The difference between discrete and continuous distributions are:\n",
        "  - A discrete distribution is associated with a discrete random variable that takes finite or countably infinite values, whereas a continuous distribution is associated with a random variable that can take infinitely many values within an interval.\n",
        "  - A discrete distribution is described by a Probability Mass Function (PMF), which gives the probability of each possible value, while a continuous distribution is described by a Probability Density Function (PDF), where probabilities are assigned over intervals rather than exact points.\n",
        "  - In a discrete distribution, the probability of a particular outcome such as P(X=x) can be greater than 0, whereas in a continuous distribution, the probability of a single exact value is always zero, and probabilities are instead calculated over ranges.\n",
        "  - The total probability in a discrete distribution is obtained by the sum of probabilities across all possible outcomes, while in a continuous distribution it is obtained by the area under the PDF curve.\n",
        "  - Discrete distributions deal with countable values like integers or whole numbers, whereas continuous distributions deal with uncountable values such as real numbers within intervals.\n",
        "  - Common examples of discrete distributions are Binomial, Poisson, and Geometric, while common examples of continuous distributions include Normal, Exponential, and Uniform.\n",
        "  - Example, rolling a die is modeled using a discrete distribution because outcomes are countable {1,2,3,4,5,6}, whereas measuring the height of a student is modeled using a continuous distribution because the outcome can take infinitely many values like 165.2 cm, 165.25 cm, etc.\n",
        "\n",
        "---\n",
        "Question 4: What is a binomial distribution, and how is it used in probability?\n",
        "- A binomial distribution is a discrete probability distribution that models the number of successes in a fixed number of independent trials, where each trial has only two possible outcomes: success or failure. It is characterized by two parameters: the number of trials, denoted by (n), and the probability of success in a single trial, denoted by (p).\n",
        "  - Usage in Probability: The binomial distribution is used in probability to calculate the likelihood of observing a specific number of successes in a series of independent Bernoulli trials. This distribution is applicable in scenarios where:\n",
        "    - A fixed number of trials,(n), are conducted.\n",
        "    - Each trial results in one of two mutually exclusive outcomes, typically labeled as success or failure.\n",
        "    - The probability of success, (p), remains constant for every trial.\n",
        "    - The trials are independent, meaning the outcome of one trial does not influence the outcome of any other trial.\n",
        "\n",
        "  The Binomial Distribution Formula, which is used to calculate the probability, for a random variable X = 0, 1, 2, 3,....,n is given as\n",
        "\n",
        "       P(X = r) = nCr pr (1-p) n-r, r = 0, 1, 2, 3....\n",
        "\n",
        "Where,\n",
        "\n",
        "n = Total number of trials\n",
        "r = Number of successes\n",
        "p = Probability of success\n",
        "\n",
        "---\n",
        "Question 5: What is the standard normal distribution, and why is it important?\n",
        "- The standard normal distribution is a specific normal distribution with a mean of 0 and a standard deviation of 1, often called a Z-distribution. It is crucial because it allows any value from any normal distribution to be converted into a z-score, enabling comparisons, probability calculations using standard tables (Z-tables), and analysis of data across different distributions with varying means and standard deviations.\n",
        "  - A bell-shaped curve that is symmetric around its center.\n",
        "  - It is a special case of the normal distribution where the mean is exactly 0 and the standard deviation is exactly 1.\n",
        "  - Individual observations from this distribution are known as z-scores, indicating how many standard deviations away from the mean a specific data point is.\n",
        "\n",
        "Why it's important:\n",
        "  - Simplifies probability calculations: It provides a standardized way to find the probability of specific outcomes.\n",
        "  - Allows for comparisons: You can compare data points from different normal distributions, even if they have different means and standard deviations.\n",
        "  - Normalization: It converts individual normal distributions into a standard form, making the data more interpretable and comparable\n",
        "  - Standard tables (Z-tables): By converting data to z-scores, you can use a universal \"Z-table\" to find the area (probability) under the curve for any normal distribution.\n",
        "  - Foundation for analysis: Many statistical methods and theories, such as the Central Limit Theorem, rely on the properties of the normal and standard normal distributions.\n",
        "\n",
        "---\n",
        "Question 6: What is the Central Limit Theorem (CLT), and why is it critical in statistics?\n",
        "- The Central Limit Theorem (CLT) states that the distribution of sample means will approach a normal (bell-shaped) distribution as the sample size increases, regardless of the shape of the original population. It is critical in statistics because it allows us to use the well-understood properties of the normal distribution to make valid inferences about a population from a sample, even if the population itself isn't normally distributed, simplifying many statistical procedures like hypothesis testing and confidence interval calculations.\n",
        "\n",
        "Importance of Central Limit Theorem in Statistics:\n",
        "  - Justifies Normal Distribution Use: The most crucial aspect is that the CLT provides theoretical justification for using the normal distribution in statistical inference, even when the underlying data doesn't follow it.\n",
        "  - Simplifies Statistical Analysis: Many statistical methods and formulas are based on the assumption of a normal distribution. The CLT allows these methods to be applied to a much wider range of problems.\n",
        "  - Foundation for Hypothesis Testing: It is essential for hypothesis tests and constructing confidence intervals for population means.\n",
        "  - Understanding Uncertainty: It helps in quantifying the uncertainty of sample statistics and understanding how much the sample mean is likely to vary from the true population mean.\n",
        "  - Wide Applications: The CLT is fundamental in fields like finance, polling, and data science, enabling analysis of stock returns, estimating preferences from survey data, and evaluating climate models.\n",
        "\n",
        "\n",
        "---\n",
        "Question 7: What is the significance of confidence intervals in statistical analysis?\n",
        "- Confidence intervals provide a range of plausible values for a population parameter (like a mean or proportion) based on sample data, indicating the uncertainty and precision of an estimate. They give a more complete picture than a single point estimate, showing how much the estimate might vary if the study were repeated. A narrower confidence interval means a more precise estimate and a more stable result, while a wider one suggests greater variability and less stability in the estimate.\n",
        "\n",
        "Significance of Confidence intervals in statistical analysis:\n",
        "  - Estimating Population Parameters:The primary purpose of a confidence interval is to estimate an unknown population parameter using data from a sample.\n",
        "  - Quantifying Uncertainty: Confidence intervals explicitly show the uncertainty associated with a sample-based estimate. A wider interval indicates more uncertainty.\n",
        "  - Precision of Estimates: A narrower confidence interval suggests a more precise and reliable estimate of the true population parameter.\n",
        "  - Providing a Range of Plausible Values: Instead of a single number, a CI provides a range that is likely to contain the true population value.\n",
        "  - Interpreting Study Results:Confidence intervals offer more information than p-values, especially when a statistically significant result isn't found, helping to gauge the precision of the estimate and the potential for clinical relevance.\n",
        "  - Assessing Estimate Stability: The width of the confidence interval also indicates the stability of the estimate; a stable estimate will have a narrower interval.  \n",
        "  - Contextualizing Data-Driven Decisions: By providing a range rather than a single point, confidence intervals help in making more informed and data-driven decisions.\n",
        "  - Example: If a study estimates that the average daily television watching time is 2 hours with a 95% confidence interval of 1.5 to 2.5 hours, this means that you are 95% confident that the true average television watching time for the entire population falls between 1.5 and 2.5 hours.\n",
        "  \n",
        "---\n",
        "Question 8: What is the concept of expected value in a probability distribution?\n",
        "- The expected value (also called mathematical expectation or mean) is the long-run average value of a random variable. It represents the weighted mean of all possible outcomes of a probability distribution. In simple terms, it tells us what we can “expect” on average if an experiment is repeated many times.\n",
        "For a discrete random variable X with outcomes x1, x2, x3, … and corresponding probabilities P(x1), P(x2), … :\n",
        "\n",
        "  E(X) = x1·P(x1) + x2·P(x2) + x3·P(x3) + …\n",
        "\n",
        "  For a continuous random variable X with probability density function f(x):\n",
        "\n",
        "  E(X) = integral of [x·f(x)] from -infinity to +infinity\n",
        "\n",
        "  - Interpretation:Expected value is the “center” or balancing point of the distribution.It may not be one of the actual observed values, but it represents the average outcome in the long run.\n",
        "\n",
        "  - Properties of Expected Value\n",
        "    - Linearity: E(aX + b) = a·E(X) + b\n",
        "    - For independent variables: E(X + Y) = E(X) + E(Y)\n",
        "    - Variance relation: Var(X) = E(X²) – (E(X))²\n",
        "\n",
        "  - Example (Discrete):\n",
        "\n",
        "    A fair die is rolled with outcomes {1, 2, 3, 4, 5, 6}, each having probability 1/6.\n",
        "    E(X) = (1+2+3+4+5+6)/6 = 3.5\n",
        "    This means that if the die is rolled many times, the average result will approach 3.5.\n",
        "\n",
        "  - Example (Continuous):\n",
        "    \n",
        "    If the lifetime of a machine has density function f(x) = e^(-x), for x ≥ 0:\n",
        "    E(X) = integral of x·e^(-x) from 0 to infinity = 1\n",
        "    So, the expected lifetime is 1 year.\n",
        "\n",
        "  - Importance of Expected Value:\n",
        "    - Provides the average outcome of random experiments.\n",
        "    - Used in statistics, economics, finance, insurance, and risk analysis.\n",
        "    - Forms the basis of other measures like variance and standard deviation.\n",
        "\n",
        "---\n",
        "\n"
      ],
      "metadata": {
        "id": "do3TB8QHG5q9"
      }
    },
    {
      "cell_type": "code",
      "source": [
        "'''\n",
        "Question 9: Write a Python program to generate 1000 random numbers from a normal\n",
        "distribution with mean = 50 and standard deviation = 5.\n",
        "Compute its mean and standard deviation using NumPy, and draw a histogram to\n",
        "visualize the distribution.\n",
        "\n",
        "(Include your Python code and output in the code box below.)\n",
        "\n",
        "'''\n",
        "import numpy as np\n",
        "import matplotlib.pyplot as plt\n",
        "\n",
        "# Generating 1000 random number\n",
        "mean = 50\n",
        "std_dev = 5\n",
        "data = np.random.normal(loc=mean, scale=std_dev, size=1000)\n",
        "\n",
        "calculated_mean = np.mean(data)\n",
        "calculated_std = np.std(data)\n",
        "# It'll be close to mean and std\n",
        "print(\"Calculated Mean:\", calculated_mean)\n",
        "print(\"Calculated Standard Deviation:\", calculated_std)\n",
        "\n",
        "# Ploting histogram\n",
        "plt.hist(data, bins=30, edgecolor='black', alpha=0.7)\n",
        "plt.title(\"Histogram of Normal Distribution (mean=50, std=5)\")\n",
        "plt.xlabel(\"Value\")\n",
        "plt.ylabel(\"Frequency\")\n",
        "plt.show()\n"
      ],
      "metadata": {
        "colab": {
          "base_uri": "https://localhost:8080/",
          "height": 507
        },
        "id": "oV0MwWgobJ--",
        "outputId": "fd73db9f-00fe-44b7-e304-c146f1879c64"
      },
      "execution_count": 5,
      "outputs": [
        {
          "output_type": "stream",
          "name": "stdout",
          "text": [
            "Calculated Mean: 50.07237331989061\n",
            "Calculated Standard Deviation: 5.176355333725109\n"
          ]
        },
        {
          "output_type": "display_data",
          "data": {
            "text/plain": [
              "<Figure size 640x480 with 1 Axes>"
            ],
            "image/png": "[encoded data removed]"
          },
          "metadata": {}
        }
      ]
    },
    {
      "cell_type": "markdown",
      "source": [
        "---\n",
        "Question 10: You are working as a data analyst for a retail company. The company has\n",
        "collected daily sales data for 2 years and wants you to identify the overall sales trend.\n",
        "\n",
        "- daily_sales = [220, 245, 210, 265, 230, 250, 260, 275, 240, 255,\n",
        " 235, 260, 245, 250, 225, 270, 265, 255, 250, 260]\n",
        "\n",
        "- Explain how you would apply the Central Limit Theorem to estimate the average sales\n",
        "with a 95% confidence interval.\n",
        "- Write the Python code to compute the mean sales and its confidence interval.\n",
        "\n",
        "(Include your Python code and output in the code box below.)\n",
        "\n",
        "Ans - The Central Limit Theorem (CLT) says that if we take many samples from data, the distribution of their averages will look like a normal distribution. This helps us to estimate the population mean even if we only have sample data.\n",
        "\n",
        "For the daily sales data:\n",
        "  - First, we calculate the average sales (mean) from the data.\n",
        "  - Then, we calculate the standard deviation and find the standard error (SE), which shows how much the sample mean may vary.\n",
        "    - SE = standard deviation / √n\n",
        "  - To build a 95% confidence interval, we use the formula:\n",
        "    - Confidence Interval = Mean ± (t-value x SE)\n",
        "  - Here, the t-value comes from the t-distribution because our data size is small (20 values).\n",
        "\n",
        "This interval tells us the range in which the true average daily sales is likely to fall with 95% confidence.\n"
      ],
      "metadata": {
        "id": "tp9NSxSyd8Ev"
      }
    },
    {
      "cell_type": "code",
      "source": [
        "import numpy as np\n",
        "import scipy.stats as st\n",
        "\n",
        "# Daily sales data\n",
        "daily_sales = [220, 245, 210, 265, 230, 250, 260, 275, 240, 255,\n",
        "               235, 260, 245, 250, 225, 270, 265, 255, 250, 260]\n",
        "\n",
        "data = np.array(daily_sales)\n",
        "\n",
        "# Calculating mean and standard error\n",
        "mean_sales = np.mean(data)\n",
        "std_err = st.sem(data)   # standard error of the mean\n",
        "\n",
        "# 95% confidence interval\n",
        "confidence_interval = st.t.interval(confidence=0.95, df=len(data)-1,\n",
        "                                    loc=mean_sales, scale=std_err)\n",
        "\n",
        "print(\"Mean Sales:\", mean_sales)\n",
        "print(f\"95% Confidence Interval: ({confidence_interval[0]:.5f}, {confidence_interval[1]:.5f})\")"
      ],
      "metadata": {
        "colab": {
          "base_uri": "https://localhost:8080/"
        },
        "id": "zAM6fcgJcTVH",
        "outputId": "e389628c-0a2e-4dbd-9dd5-8422f6d3f09e"
      },
      "execution_count": 12,
      "outputs": [
        {
          "output_type": "stream",
          "name": "stdout",
          "text": [
            "Mean Sales: 248.25\n",
            "95% Confidence Interval: (240.16957, 256.33043)\n"
          ]
        }
      ]
    },
    {
      "cell_type": "markdown",
      "source": [
        "---"
      ],
      "metadata": {
        "id": "GUfkuHyvieFb"
      }
    }
  ]
}