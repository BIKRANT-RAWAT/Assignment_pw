{
  "nbformat": 4,
  "nbformat_minor": 0,
  "metadata": {
    "colab": {
      "provenance": []
    },
    "kernelspec": {
      "name": "python3",
      "display_name": "Python 3"
    },
    "language_info": {
      "name": "python"
    }
  },
  "cells": [
    {
      "cell_type": "markdown",
      "source": [],
      "metadata": {
        "id": "6tt4uYHXxRY0"
      }
    },
    {
      "cell_type": "markdown",
      "source": [
        "#Theory Questions"
      ],
      "metadata": {
        "id": "HmeyQAblxS9K"
      }
    },
    {
      "cell_type": "markdown",
      "source": [
        "1. What is python, and why is it popular?\n",
        "- Python is an interpreted, object-oriented , high level programming language with dynamic semantics. Python is popular due to simplicity,Easy to learn syntax , that emphasis on readability and reduces cost of program maintenance. Added to which , python allows developer to write program with fewer lines and have support of libraries such as pandas, scikit lear, tensor flow, etc.\n",
        "\n",
        "\n",
        "---\n",
        "\n",
        "\n",
        "2. What is an interpreter in python?\n",
        "- A python interpreter enables the python script to execute and view results by converting python code into machine readable language.\n",
        "\n",
        "\n",
        "\n",
        "---\n",
        "\n",
        "3. What are pre defined keywords in python?\n",
        "- Pre defined keywords in python are the words that hold special meaning and functionality in the python code. These are usally reserved and integral to syntax. Few examples are, if, elif, True, print, etc.\n",
        "\n",
        "\n",
        "\n",
        "\n",
        "---\n",
        "4. Can keywords be used as variable names?\n",
        "- Keywords hold special meaning that are reserved in the python. Therefore, using the keywords in the variable name may create ambiguity and may also lead to syntax error.\n",
        "\n",
        "\n",
        "\n",
        "---\n",
        "\n",
        "5. What is mutability in python?\n",
        "- The ability of an object that allows it to change its value is known as mutability in python. for example, lists, sets, dictionaries, etc.\n",
        "\n",
        "\n",
        "\n",
        "---\n",
        "\n",
        "6. Why are list mutable but tupples are immutable?\n",
        "- Lists are designed to hold dynamic data type that may need to change during execution, thus they have functionality to add, remove or update values. hence, list are mutable . whereas, tuples are designed to hold important values that need to fixed for safety of code and increase performace thus made immutable.\n",
        "\n",
        "\n",
        "---\n",
        "\n",
        "7. What is the difference between “==” and “is” operators in Python?\n",
        "- '==' also known as equality operator is used to check whether two objects hold same value or not. for example, a=[1,2];b=[1,2];print(a==b) will give True.\n",
        "'is' also known as identity operator points to the memory of the object and check for positon/location in momory. for example, a=[1,2];b=[1,2];print(a is b) will give False .\n",
        "\n",
        "\n",
        "\n",
        "---\n",
        "\n",
        "8. What are logical operators in Python?\n",
        "- Logical operators are keywords in python that are used to combine multiple conditions and return True or False as a result. for example, x= True ; print (not x) will give False as result.\n",
        "\n",
        "\n",
        "\n",
        "---\n",
        "\n",
        "9. What is type casting in Python ?\n",
        "- Type casting is a functionality is python that allows user to change data type of a value or variable. There are two types of type casting 1. Implicit 2.Explicit\n",
        "\n",
        "\n",
        "\n",
        "---\n",
        "\n",
        "10. What is the difference between implicit and explicit type casting ?\n",
        "- *Implicit type casting >* In this type casting python automatically converts the data type of without user intervention. for example, a=1 is a integer type and b=2.34 is a float .\n",
        "**Explicit type casting >* In this type user manually convert the data type to a desired and valid data type. for example, int(x) for integer and float (y) for float etc.\n",
        "\n",
        "\n",
        "\n",
        "---\n",
        "\n",
        "11. What is the purpose of conditional statements in Python ?\n",
        "- Contional statements are used to control the flow of execution of the program. This helps is decision making logics and make program more interactive and responsive. example of conditional statements are, if, elif, etc.\n",
        "\n",
        "\n",
        "\n",
        "---\n",
        "\n",
        "12. How does the elif statement work ?\n",
        "- elif is the shorthand of else if in python used to check multiple conditons in a sequence of if statement. for example,\n",
        "if conditon 1:\n",
        "  code\n",
        "elif conditon 2:\n",
        "  ccode\n",
        "\n",
        "\n",
        "\n",
        "---\n",
        "\n",
        "13. What is the difference between for and while loops ?\n",
        "  - for loop iterate over a sequence or range whereas while loop repeats untill a conditon is False\n",
        "  -  for loop iteration are known whereas while loop iterations not known.\n",
        "  -  for loop can use built in conditons like range,list etc, whereas while loop conditons have to be written manually.\n",
        "  -  for loop have low risk of infinite loop whereas while loop have higher risk of infinite loop.\n",
        "  -  code for output of 0 1 2 3 4\n",
        "    \n",
        "    for i in range (5):\n",
        "      print (i,end=' ')\n",
        "\n",
        "    whereas  in while\n",
        "\n",
        "    i=0\n",
        "    while i<5:\n",
        "      print(i, end=' ')\n",
        "      i=i+1\n",
        "\n",
        "\n",
        "\n",
        "---\n",
        "\n",
        "14. Describe a scenario where a while loop is more suitable than a for loop ?\n",
        "- A scenario where a while loop will be more suitable than a for loop will be checking the user defined input as valid. Here we do not know number of attempts user is going to take.\n",
        "for example,\n",
        "password= 'tango charlie'\n",
        "userinput=''\n",
        "while userinput!=password:\n",
        "  userinput=input('Tell me password')\n",
        "print('Access Granted')\n",
        "\n",
        "\n",
        "\n",
        "---\n",
        "\n",
        "\n",
        "\n"
      ],
      "metadata": {
        "id": "gc0UbYHGxib9"
      }
    },
    {
      "cell_type": "markdown",
      "source": [
        "#Practical Questions\n"
      ],
      "metadata": {
        "id": "nA9krfTKAoF9"
      }
    },
    {
      "cell_type": "code",
      "source": [
        "# 1.Write a Python program to print \"Hello, World!\" ?\n",
        "\n",
        "print(\"Hello, World!\")"
      ],
      "metadata": {
        "colab": {
          "base_uri": "https://localhost:8080/"
        },
        "id": "n_Oe9iDF_EPn",
        "outputId": "2a788311-9bf5-456c-f37f-cae591291a50"
      },
      "execution_count": null,
      "outputs": [
        {
          "output_type": "stream",
          "name": "stdout",
          "text": [
            "Hello, World!\n"
          ]
        }
      ]
    },
    {
      "cell_type": "code",
      "source": [
        "# 2. Write a Python program that displays your name and age ?\n",
        "name= input(\"Enter your name: \")\n",
        "age= int(input(\"Enter your age: \"))\n",
        "print(f\"Hi, {name}, Your age is {age}\")"
      ],
      "metadata": {
        "colab": {
          "base_uri": "https://localhost:8080/"
        },
        "id": "kSFML6ZqA3GT",
        "outputId": "ce66b05c-6a6a-4159-962a-10dec5924877"
      },
      "execution_count": null,
      "outputs": [
        {
          "output_type": "stream",
          "name": "stdout",
          "text": [
            "Enter your name: Bikrant\n",
            "Enter your age: 25\n",
            "Hi, Bikrant, Your age is 25\n"
          ]
        }
      ]
    },
    {
      "cell_type": "code",
      "source": [
        "# 3.Write code to print all the pre-defined keywords in Python using the keyword library ?\n",
        "import keyword\n",
        "print (keyword.kwlist )"
      ],
      "metadata": {
        "colab": {
          "base_uri": "https://localhost:8080/"
        },
        "id": "2m5beSL0Bsju",
        "outputId": "92db8c8e-fca7-461b-aca6-8d8529dc180e"
      },
      "execution_count": null,
      "outputs": [
        {
          "output_type": "stream",
          "name": "stdout",
          "text": [
            "['False', 'None', 'True', 'and', 'as', 'assert', 'async', 'await', 'break', 'class', 'continue', 'def', 'del', 'elif', 'else', 'except', 'finally', 'for', 'from', 'global', 'if', 'import', 'in', 'is', 'lambda', 'nonlocal', 'not', 'or', 'pass', 'raise', 'return', 'try', 'while', 'with', 'yield']\n"
          ]
        }
      ]
    },
    {
      "cell_type": "code",
      "source": [
        "# 4. Write a program that checks if a given word is a Python keyword ?\n",
        "import keyword\n",
        "user_input =input(\"Enter the keyword: \")\n",
        "if keyword.iskeyword(user_input):\n",
        "  print(f\"yes,  {user_input } is a keyword.\")\n",
        "else:\n",
        "  print (f\"No, {user_input} is not a keyword  \")\n"
      ],
      "metadata": {
        "colab": {
          "base_uri": "https://localhost:8080/"
        },
        "id": "_GMPsYndCD_4",
        "outputId": "5e4f9e1e-d1de-464b-c318-20d35c3f4c47"
      },
      "execution_count": null,
      "outputs": [
        {
          "output_type": "stream",
          "name": "stdout",
          "text": [
            "Enter the keyword: false\n",
            "No, false is not a keyword  \n"
          ]
        }
      ]
    },
    {
      "cell_type": "code",
      "source": [
        "''' 5. Create a list and tuple in Python, and demonstrate how attempting to change an element works differently\n",
        "for each. '''\n",
        "mylist =[1,2,3,\"hello\",\"pw\" ]\n",
        "mytupple = (1,2,3,\"hello\", \"pw\")\n",
        "print (\"Items in mylist are \",mylist)\n",
        "print (\"Items in mytupple are \",mytupple)\n",
        "\n",
        "#changing in list- pw to pwskills\n",
        "mylist [4]= \"pwskills\"\n",
        "print (\"updated mylist is : \" ,mylist)\n",
        "\n",
        "#changing in tupple - pw to pwskills\n",
        "try:\n",
        "  mytupple[4] = \"pwskills\"\n",
        "  print (\"updated mytupple is \", mytupple )\n",
        "except TypeError as er:\n",
        "  print(\"Tupples are immutable, hence an error occured and this statement is printed.\")\n",
        "  print(\"Errot type: \",er )"
      ],
      "metadata": {
        "colab": {
          "base_uri": "https://localhost:8080/"
        },
        "id": "ORT2eQenD6Pl",
        "outputId": "a738b086-b6d9-4940-b5e8-26a0745b6179"
      },
      "execution_count": null,
      "outputs": [
        {
          "output_type": "stream",
          "name": "stdout",
          "text": [
            "Items in mylist are  [1, 2, 3, 'hello', 'pw']\n",
            "Items in mytupple are  (1, 2, 3, 'hello', 'pw')\n",
            "updated mylist is :  [1, 2, 3, 'hello', 'pwskills']\n",
            "Tupples are immutable, hence an error occured and this statement is printed.\n",
            "Errot type:  'tuple' object does not support item assignment\n"
          ]
        }
      ]
    },
    {
      "cell_type": "code",
      "source": [
        "# 6. Write a function to demonstrate the behavior of mutable and immutable arguments ?\n",
        "def mutable_func(myargs ):\n",
        "  print(\"The original mutable argument is : \",myargs )\n",
        "  myargs.append(\"pwskills \")\n",
        "  myargs[2]=100\n",
        "  print(\"New mutable argument is : \",myargs )\n",
        "\n",
        "def immutable_func(myarg):\n",
        "  try:\n",
        "    print(\"The original immutable argument is : \",myarg )\n",
        "    myarg[0]=\"T\"\n",
        "    myarg[19]=\"A\"\n",
        "    print(\"The new immutable argument is : \",myarg )\n",
        "  except TypeError as err :\n",
        "    print(\"Here we have an error : \",err )\n",
        "\n",
        "\n",
        "mutable_arg = [1,2,3,\"hello\" ,\"world\"]\n",
        "immutable_arg =\"this is Immutable argument \"\n",
        "\n",
        "mutable_func(mutable_arg )\n",
        "immutable_func (immutable_arg )"
      ],
      "metadata": {
        "id": "Cjo2si8OIORx",
        "colab": {
          "base_uri": "https://localhost:8080/"
        },
        "outputId": "6cdd0759-1cf4-4f98-b014-91d10b0a1c10"
      },
      "execution_count": null,
      "outputs": [
        {
          "output_type": "stream",
          "name": "stdout",
          "text": [
            "The original mutable argument is :  [1, 2, 3, 'hello', 'world']\n",
            "New mutable argument is :  [1, 2, 100, 'hello', 'world', 'pwskills ']\n",
            "The original immutable argument is :  this is Immutable argument \n",
            "Here we have an error :  'str' object does not support item assignment\n"
          ]
        }
      ]
    },
    {
      "cell_type": "code",
      "source": [
        "# 7. Write a program that performs basic arithmetic operations on two user-input numbers ?\n",
        "a=float(input(\"Enter the first number : \"))\n",
        "b= float(input(\"Enter the second number: \"))\n",
        "operator =input(\"Enter the basic arithmatic operation (+,-,*,/) you want to perform: \")\n",
        "if operator == \"+\":\n",
        "  print (f\"Sum of {a } and {b } is {a+b }\")\n",
        "elif operator == \"-\":\n",
        "  print (f\"Difference of {a } and {b } is {a-b }\")\n",
        "elif operator == \"*\":\n",
        "  print (f\"Multiple of {a } and {b } is {a*b }\")\n",
        "elif operator == \"/\":\n",
        "  if b!=0:\n",
        "    print (f\"Division of {a } and {b } is {a/b}\")\n",
        "  else :\n",
        "    print (\"Second number must not be zero for devision.\")\n",
        "else:\n",
        "  print (\"Please select correct operator \")"
      ],
      "metadata": {
        "colab": {
          "base_uri": "https://localhost:8080/"
        },
        "id": "SCYrDKtafzXO",
        "outputId": "b97df459-3ab8-4d7b-e911-66d8ebf63328"
      },
      "execution_count": null,
      "outputs": [
        {
          "output_type": "stream",
          "name": "stdout",
          "text": [
            "Enter the first number : 34\n",
            "Enter the second number: 556\n",
            "Enter the basic arithmatic operation (+,-,*,/) you want to perform: =\n",
            "Please select correct operator \n"
          ]
        }
      ]
    },
    {
      "cell_type": "code",
      "source": [
        "# 8. Write a program to demonstrate the use of logical operators.\n",
        "age = int(input (\"Enter your age : \"))\n",
        "citizen = input (\"Are you a citizen on India : (True / False ) \")\n",
        "lerner_license  = input (\"Do you have lerner licence  : (True / False ) \")\n",
        "\n",
        "# and operator\n",
        "vote = age >=18 and citizen\n",
        "print (\"Your eligibiity to vote is : \" ,vote )\n",
        "\n",
        "# or operator\n",
        "drive = age >=18 or lerner_license\n",
        "print (\"Your eligibllity to dive is : \",drive )\n",
        "\n",
        "# not operator\n",
        "print (\"Not eligible to drive : \", not drive )"
      ],
      "metadata": {
        "colab": {
          "base_uri": "https://localhost:8080/"
        },
        "id": "6Ex5v9kGkMDn",
        "outputId": "14b150ae-baa9-4f26-b6f9-25384966da7f"
      },
      "execution_count": null,
      "outputs": [
        {
          "output_type": "stream",
          "name": "stdout",
          "text": [
            "Enter your age : 17\n",
            "Are you a citizen on India : (True / False ) True\n",
            "Do you have lerner licence  : (True / False ) True\n",
            "Your eligibiity to vote is :  False\n",
            "Your eligibllity to dive is :  True\n",
            "Not eligible to drive :  False\n"
          ]
        }
      ]
    },
    {
      "cell_type": "code",
      "source": [
        "# 9.Write a Python program to convert user input from string to integer, float, and boolean types?\n",
        "\n",
        "user_says = input(\"Enter your message : \")\n",
        "\n",
        "#convert to integer:\n",
        "try :\n",
        "  print (\"Integer is : \", int(user_says ))\n",
        "except :\n",
        "  print (\"Connversion not possible to integer. \")\n",
        "\n",
        "#convert to float :\n",
        "try :\n",
        "  print (\"Float is : \", float(user_says ))\n",
        "except :\n",
        "  print (\"Connversion not possible to Flaot . \")\n",
        "\n",
        "#convert to Boolean:\n",
        "print (\"Boolean  is : \", bool (user_says ))\n"
      ],
      "metadata": {
        "colab": {
          "base_uri": "https://localhost:8080/"
        },
        "id": "9O1-14VxoHwf",
        "outputId": "30bf039c-970c-46c7-9286-4771d7339a74"
      },
      "execution_count": null,
      "outputs": [
        {
          "output_type": "stream",
          "name": "stdout",
          "text": [
            "Enter your message : \n",
            "Connversion not possible to integer. \n",
            "Connversion not possible to Flaot . \n",
            "Boolean  is :  False\n"
          ]
        }
      ]
    },
    {
      "cell_type": "code",
      "source": [
        "# 10. Write code to demonstrate type casting with list elements ?\n",
        "mylist =[1,2,'100',3.23,'2.4','data_science']\n",
        "print (\"Original list : \",mylist )\n",
        "\n",
        "#Type casting in integer list :\n",
        "int_new_list =[]\n",
        "for item in mylist:\n",
        "  try:\n",
        "    int_new_list.append(int(item))\n",
        "  except:\n",
        "    int_new_list.append(item)\n",
        "print(\"Typecaseted integer list is : \",int_new_list)\n",
        "\n",
        "#Type casting in float list :\n",
        "float_new_list =[]\n",
        "for item in mylist:\n",
        "  try:\n",
        "    float_new_list.append(float (item))\n",
        "  except:\n",
        "    float_new_list.append(item)\n",
        "print(\"Typecaseted float list is : \",float_new_list)\n",
        "\n",
        "#Type casting in string list :\n",
        "str_new_list =[]\n",
        "for item in mylist:\n",
        "  try:\n",
        "    str_new_list.append(str (item))\n",
        "  except:\n",
        "    str_new_list.append(item)\n",
        "print(\"Typecaseted string  list is : \",str_new_list)"
      ],
      "metadata": {
        "colab": {
          "base_uri": "https://localhost:8080/"
        },
        "id": "txOeykOTAShm",
        "outputId": "372cc628-67ec-4148-896a-83eaab4d5751"
      },
      "execution_count": null,
      "outputs": [
        {
          "output_type": "stream",
          "name": "stdout",
          "text": [
            "Original list :  [1, 2, '100', 3.23, '2.4', 'data_science']\n",
            "Typecaseted integer list is :  [1, 2, 100, 3, '2.4', 'data_science']\n",
            "Typecaseted float list is :  [1.0, 2.0, 100.0, 3.23, 2.4, 'data_science']\n",
            "Typecaseted string  list is :  ['1', '2', '100', '3.23', '2.4', 'data_science']\n"
          ]
        }
      ]
    },
    {
      "cell_type": "code",
      "source": [
        "# 11. Write a program that checks if a number is positive, negative, or zero.\n",
        "\n",
        "num =int(input(\"Enter the number: \"))\n",
        "if num >0:\n",
        "  print (\"number is positive. \")\n",
        "elif num<0:\n",
        "  print (\"number is negative. \")\n",
        "else:\n",
        "  print (\"number is zero \")"
      ],
      "metadata": {
        "colab": {
          "base_uri": "https://localhost:8080/"
        },
        "id": "3N6QWPdCES5n",
        "outputId": "517d8bba-f7ff-4eb0-9e13-fad270daeae4"
      },
      "execution_count": null,
      "outputs": [
        {
          "output_type": "stream",
          "name": "stdout",
          "text": [
            "Enter the number: -23\n",
            "number is negative. \n"
          ]
        }
      ]
    },
    {
      "cell_type": "code",
      "source": [
        "# 12. Write a for loop to print numbers from 1 to 10?\n",
        "\n",
        "for i in range (10):\n",
        "  print (i+1, end=\" \")"
      ],
      "metadata": {
        "colab": {
          "base_uri": "https://localhost:8080/"
        },
        "id": "2EGQ2-e1GOcO",
        "outputId": "def917fe-e2fd-4db2-d06a-70eeb6b79a64"
      },
      "execution_count": null,
      "outputs": [
        {
          "output_type": "stream",
          "name": "stdout",
          "text": [
            "1 2 3 4 5 6 7 8 9 10 "
          ]
        }
      ]
    },
    {
      "cell_type": "code",
      "source": [
        "# 13. Write a Python program to find the sum of all even numbers between 1 and 50 ?\n",
        "sum=0\n",
        "for i in range (51):\n",
        "  if (i)%2==0:\n",
        "    sum+=(i)\n",
        "\n",
        "# or can be done as\n",
        "# for i in (range(2,51,2)):\n",
        "  # sum +=i\n",
        "\n",
        "print (\" Sum of all Even number between 1 and 50 is : \", sum )"
      ],
      "metadata": {
        "colab": {
          "base_uri": "https://localhost:8080/"
        },
        "id": "JLwECnveGry0",
        "outputId": "384bd51b-4b41-4a43-c6d0-e63b8a055954"
      },
      "execution_count": null,
      "outputs": [
        {
          "output_type": "stream",
          "name": "stdout",
          "text": [
            " Sum of all Even number between 1 and 50 is :  650\n"
          ]
        }
      ]
    },
    {
      "cell_type": "code",
      "source": [
        "# 14. Write a program to reverse a string using a while loop?\n",
        "\n",
        "mystr = input (\"Enter your string to reverse : \")\n",
        "rev_str =\"\"\n",
        "i=len(mystr)-1\n",
        "while i>=0:\n",
        "  rev_str+= mystr[i]\n",
        "  i-=1\n",
        "print (\"Your reversed string is : \", rev_str )"
      ],
      "metadata": {
        "colab": {
          "base_uri": "https://localhost:8080/"
        },
        "id": "5FW45HjOHiQn",
        "outputId": "6631513b-ab4a-4ae0-d762-cb5fa746c099"
      },
      "execution_count": null,
      "outputs": [
        {
          "output_type": "stream",
          "name": "stdout",
          "text": [
            "Enter your string to reverse : helo\n",
            "Your reversed string is :  oleh\n"
          ]
        }
      ]
    },
    {
      "cell_type": "code",
      "source": [
        "# 15. Write a Python program to calculate the factorial of a number provided by the user using a while loop ?\n",
        "\n",
        "num =int(input(\"Enter the number for factorial : \"))\n",
        "fact=1\n",
        "while num>0:\n",
        "  fact *=num\n",
        "  num-=1\n",
        "print (\"Your factorial is : \",fact)\n"
      ],
      "metadata": {
        "colab": {
          "base_uri": "https://localhost:8080/"
        },
        "id": "v_bWgsBSK2O3",
        "outputId": "19f6fb21-1152-453b-c14a-dba394e783ab"
      },
      "execution_count": null,
      "outputs": [
        {
          "output_type": "stream",
          "name": "stdout",
          "text": [
            "Enter the number for factorial : 7\n",
            "Your factorial is :  5040\n"
          ]
        }
      ]
    },
    {
      "cell_type": "code",
      "source": [],
      "metadata": {
        "id": "ZRSV5yHYNFkp"
      },
      "execution_count": null,
      "outputs": []
    }
  ]
}